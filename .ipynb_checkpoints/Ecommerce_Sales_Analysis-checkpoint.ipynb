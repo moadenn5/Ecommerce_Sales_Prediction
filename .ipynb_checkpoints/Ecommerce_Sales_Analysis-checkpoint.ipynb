{
 "cells": [
  {
   "cell_type": "markdown",
   "id": "346dcaa0-97d1-4a6c-86fb-92d9329c675d",
   "metadata": {
    "jp-MarkdownHeadingCollapsed": true
   },
   "source": [
    "# I) Data collection"
   ]
  },
  {
   "cell_type": "markdown",
   "id": "6aedd116-0ec1-41b9-afa2-11437d094566",
   "metadata": {
    "jp-MarkdownHeadingCollapsed": true
   },
   "source": [
    "## i) Importing Necessary Python Libraries "
   ]
  },
  {
   "cell_type": "code",
   "execution_count": 3,
   "id": "dd5c37be-4a93-45b6-ad9b-07355b6bfb28",
   "metadata": {},
   "outputs": [],
   "source": [
    "import pandas as pd\n",
    "import numpy as np \n",
    "import matplotlib.pyplot as plt"
   ]
  },
  {
   "cell_type": "markdown",
   "id": "1cda33b7-e3d5-49c5-ad19-8e561fa2db53",
   "metadata": {
    "jp-MarkdownHeadingCollapsed": true
   },
   "source": [
    "## ii) Importing Data"
   ]
  },
  {
   "cell_type": "code",
   "execution_count": 5,
   "id": "b656da02-92f5-4ecc-b378-c8ca3588ddd1",
   "metadata": {},
   "outputs": [
    {
     "data": {
      "text/html": [
       "<div>\n",
       "<style scoped>\n",
       "    .dataframe tbody tr th:only-of-type {\n",
       "        vertical-align: middle;\n",
       "    }\n",
       "\n",
       "    .dataframe tbody tr th {\n",
       "        vertical-align: top;\n",
       "    }\n",
       "\n",
       "    .dataframe thead th {\n",
       "        text-align: right;\n",
       "    }\n",
       "</style>\n",
       "<table border=\"1\" class=\"dataframe\">\n",
       "  <thead>\n",
       "    <tr style=\"text-align: right;\">\n",
       "      <th></th>\n",
       "      <th>Date</th>\n",
       "      <th>Product_Category</th>\n",
       "      <th>Price</th>\n",
       "      <th>Discount</th>\n",
       "      <th>Customer_Segment</th>\n",
       "      <th>Marketing_Spend</th>\n",
       "      <th>Units_Sold</th>\n",
       "    </tr>\n",
       "  </thead>\n",
       "  <tbody>\n",
       "    <tr>\n",
       "      <th>0</th>\n",
       "      <td>2023-01-01 00:00:00</td>\n",
       "      <td>Sports</td>\n",
       "      <td>932.80</td>\n",
       "      <td>35.82</td>\n",
       "      <td>Occasional</td>\n",
       "      <td>6780.38</td>\n",
       "      <td>32</td>\n",
       "    </tr>\n",
       "    <tr>\n",
       "      <th>1</th>\n",
       "      <td>2023-02-01 00:00:00</td>\n",
       "      <td>Toys</td>\n",
       "      <td>569.48</td>\n",
       "      <td>3.60</td>\n",
       "      <td>Premium</td>\n",
       "      <td>6807.56</td>\n",
       "      <td>16</td>\n",
       "    </tr>\n",
       "    <tr>\n",
       "      <th>2</th>\n",
       "      <td>2023-03-01 00:00:00</td>\n",
       "      <td>Home Decor</td>\n",
       "      <td>699.68</td>\n",
       "      <td>3.56</td>\n",
       "      <td>Premium</td>\n",
       "      <td>3793.91</td>\n",
       "      <td>27</td>\n",
       "    </tr>\n",
       "    <tr>\n",
       "      <th>3</th>\n",
       "      <td>2023-04-01 00:00:00</td>\n",
       "      <td>Toys</td>\n",
       "      <td>923.27</td>\n",
       "      <td>0.61</td>\n",
       "      <td>Premium</td>\n",
       "      <td>9422.75</td>\n",
       "      <td>29</td>\n",
       "    </tr>\n",
       "    <tr>\n",
       "      <th>4</th>\n",
       "      <td>2023-05-01 00:00:00</td>\n",
       "      <td>Toys</td>\n",
       "      <td>710.17</td>\n",
       "      <td>47.83</td>\n",
       "      <td>Premium</td>\n",
       "      <td>1756.83</td>\n",
       "      <td>17</td>\n",
       "    </tr>\n",
       "    <tr>\n",
       "      <th>...</th>\n",
       "      <td>...</td>\n",
       "      <td>...</td>\n",
       "      <td>...</td>\n",
       "      <td>...</td>\n",
       "      <td>...</td>\n",
       "      <td>...</td>\n",
       "      <td>...</td>\n",
       "    </tr>\n",
       "    <tr>\n",
       "      <th>995</th>\n",
       "      <td>22-09-2025</td>\n",
       "      <td>Fashion</td>\n",
       "      <td>740.06</td>\n",
       "      <td>49.06</td>\n",
       "      <td>Regular</td>\n",
       "      <td>1890.83</td>\n",
       "      <td>34</td>\n",
       "    </tr>\n",
       "    <tr>\n",
       "      <th>996</th>\n",
       "      <td>23-09-2025</td>\n",
       "      <td>Electronics</td>\n",
       "      <td>517.10</td>\n",
       "      <td>28.48</td>\n",
       "      <td>Premium</td>\n",
       "      <td>8011.66</td>\n",
       "      <td>21</td>\n",
       "    </tr>\n",
       "    <tr>\n",
       "      <th>997</th>\n",
       "      <td>24-09-2025</td>\n",
       "      <td>Electronics</td>\n",
       "      <td>683.43</td>\n",
       "      <td>12.98</td>\n",
       "      <td>Occasional</td>\n",
       "      <td>3408.51</td>\n",
       "      <td>19</td>\n",
       "    </tr>\n",
       "    <tr>\n",
       "      <th>998</th>\n",
       "      <td>25-09-2025</td>\n",
       "      <td>Sports</td>\n",
       "      <td>51.26</td>\n",
       "      <td>21.85</td>\n",
       "      <td>Occasional</td>\n",
       "      <td>7335.62</td>\n",
       "      <td>26</td>\n",
       "    </tr>\n",
       "    <tr>\n",
       "      <th>999</th>\n",
       "      <td>26-09-2025</td>\n",
       "      <td>Home Decor</td>\n",
       "      <td>93.94</td>\n",
       "      <td>29.68</td>\n",
       "      <td>Regular</td>\n",
       "      <td>4258.11</td>\n",
       "      <td>39</td>\n",
       "    </tr>\n",
       "  </tbody>\n",
       "</table>\n",
       "<p>1000 rows × 7 columns</p>\n",
       "</div>"
      ],
      "text/plain": [
       "                    Date Product_Category   Price  Discount Customer_Segment  \\\n",
       "0    2023-01-01 00:00:00           Sports  932.80     35.82       Occasional   \n",
       "1    2023-02-01 00:00:00             Toys  569.48      3.60          Premium   \n",
       "2    2023-03-01 00:00:00       Home Decor  699.68      3.56          Premium   \n",
       "3    2023-04-01 00:00:00             Toys  923.27      0.61          Premium   \n",
       "4    2023-05-01 00:00:00             Toys  710.17     47.83          Premium   \n",
       "..                   ...              ...     ...       ...              ...   \n",
       "995           22-09-2025          Fashion  740.06     49.06          Regular   \n",
       "996           23-09-2025      Electronics  517.10     28.48          Premium   \n",
       "997           24-09-2025      Electronics  683.43     12.98       Occasional   \n",
       "998           25-09-2025           Sports   51.26     21.85       Occasional   \n",
       "999           26-09-2025       Home Decor   93.94     29.68          Regular   \n",
       "\n",
       "     Marketing_Spend  Units_Sold  \n",
       "0            6780.38          32  \n",
       "1            6807.56          16  \n",
       "2            3793.91          27  \n",
       "3            9422.75          29  \n",
       "4            1756.83          17  \n",
       "..               ...         ...  \n",
       "995          1890.83          34  \n",
       "996          8011.66          21  \n",
       "997          3408.51          19  \n",
       "998          7335.62          26  \n",
       "999          4258.11          39  \n",
       "\n",
       "[1000 rows x 7 columns]"
      ]
     },
     "execution_count": 5,
     "metadata": {},
     "output_type": "execute_result"
    }
   ],
   "source": [
    "Data = pd.read_excel('Ecommerce_Sales_Prediction_Dataset.xlsx')\n",
    "Data"
   ]
  },
  {
   "cell_type": "markdown",
   "id": "4362e7e9-3047-4c75-82b5-53e66ed9a9bc",
   "metadata": {
    "jp-MarkdownHeadingCollapsed": true
   },
   "source": [
    "# II- Data Cleaning"
   ]
  },
  {
   "cell_type": "markdown",
   "id": "f0fb2deb-626a-44b8-a89a-f748d1be3a84",
   "metadata": {
    "jp-MarkdownHeadingCollapsed": true
   },
   "source": [
    "## i) Check Missing Values"
   ]
  },
  {
   "cell_type": "code",
   "execution_count": 8,
   "id": "152ebfc5-374d-42fb-9de1-8f7b06b2ef5d",
   "metadata": {},
   "outputs": [
    {
     "data": {
      "text/plain": [
       "Date                0\n",
       "Product_Category    0\n",
       "Price               0\n",
       "Discount            0\n",
       "Customer_Segment    0\n",
       "Marketing_Spend     0\n",
       "Units_Sold          0\n",
       "dtype: int64"
      ]
     },
     "execution_count": 8,
     "metadata": {},
     "output_type": "execute_result"
    }
   ],
   "source": [
    "missing_values = Data.isnull().sum()\n",
    "missing_values"
   ]
  },
  {
   "cell_type": "markdown",
   "id": "6d989a40-8d13-49a9-9d7e-05206bc7ea9d",
   "metadata": {},
   "source": [
    "*==> There is no missing value*"
   ]
  },
  {
   "cell_type": "markdown",
   "id": "e8ef5323-5966-4ed0-8177-9f60c9ea0658",
   "metadata": {
    "jp-MarkdownHeadingCollapsed": true
   },
   "source": [
    "## ii) Duplicated Data"
   ]
  },
  {
   "cell_type": "code",
   "execution_count": 11,
   "id": "85f9cc08-40b7-406b-8a42-f72aba0c77ab",
   "metadata": {},
   "outputs": [
    {
     "data": {
      "text/plain": [
       "0"
      ]
     },
     "execution_count": 11,
     "metadata": {},
     "output_type": "execute_result"
    }
   ],
   "source": [
    "Dup_Data= Data.duplicated().sum()\n",
    "Dup_Data"
   ]
  },
  {
   "cell_type": "markdown",
   "id": "bf8a0778-56df-40d4-8851-2cc1f9ef99f1",
   "metadata": {},
   "source": [
    "*==> There is no Duplicated Data*"
   ]
  },
  {
   "cell_type": "markdown",
   "id": "9b31cbc0-ed54-4e62-8660-9a0d6a0f01c6",
   "metadata": {
    "jp-MarkdownHeadingCollapsed": true
   },
   "source": [
    "## iii) Data Types"
   ]
  },
  {
   "cell_type": "markdown",
   "id": "9acdaea6-e6b2-4d2b-abc9-909e3e8b3cf6",
   "metadata": {},
   "source": [
    "* Data types Detection"
   ]
  },
  {
   "cell_type": "code",
   "execution_count": 15,
   "id": "1a0be018-d57e-426b-b6a7-ef67c221c95a",
   "metadata": {},
   "outputs": [
    {
     "data": {
      "text/plain": [
       "Date                 object\n",
       "Product_Category     object\n",
       "Price               float64\n",
       "Discount            float64\n",
       "Customer_Segment     object\n",
       "Marketing_Spend     float64\n",
       "Units_Sold            int64\n",
       "dtype: object"
      ]
     },
     "execution_count": 15,
     "metadata": {},
     "output_type": "execute_result"
    }
   ],
   "source": [
    "Types_Data = Data.dtypes\n",
    "Types_Data"
   ]
  },
  {
   "cell_type": "markdown",
   "id": "6088054f-a630-4168-8016-5585c7c2ad66",
   "metadata": {},
   "source": [
    "*==> The 'date' variable should be of the date data type*"
   ]
  },
  {
   "cell_type": "markdown",
   "id": "391c318d-10e3-4f65-ab45-2cc9f566ec53",
   "metadata": {},
   "source": [
    "* Data types Modification"
   ]
  },
  {
   "cell_type": "code",
   "execution_count": 18,
   "id": "c5f1eb9b-f555-48e2-bb78-1e276628ffd2",
   "metadata": {},
   "outputs": [
    {
     "data": {
      "text/plain": [
       "Date                datetime64[ns]\n",
       "Product_Category            object\n",
       "Price                      float64\n",
       "Discount                   float64\n",
       "Customer_Segment            object\n",
       "Marketing_Spend            float64\n",
       "Units_Sold                   int64\n",
       "dtype: object"
      ]
     },
     "execution_count": 18,
     "metadata": {},
     "output_type": "execute_result"
    }
   ],
   "source": [
    "Data['Date'] = pd.to_datetime(Data['Date'], errors='coerce')\n",
    "Data.dtypes"
   ]
  },
  {
   "cell_type": "markdown",
   "id": "5e1d5ec0-9c24-43a1-a357-a8c33ebaad2d",
   "metadata": {},
   "source": [
    "# III) Data Analysis"
   ]
  },
  {
   "cell_type": "markdown",
   "id": "01d11094-10fc-4dff-a5f8-bf98b6d240f2",
   "metadata": {
    "jp-MarkdownHeadingCollapsed": true
   },
   "source": [
    "## i) Sales and Revenue Analysis"
   ]
  },
  {
   "cell_type": "markdown",
   "id": "e434caa5-fc50-4aa8-824e-4280891db1e3",
   "metadata": {
    "jp-MarkdownHeadingCollapsed": true
   },
   "source": [
    "### 1) Units Sold"
   ]
  },
  {
   "cell_type": "code",
   "execution_count": 192,
   "id": "950996bc-dc92-42c9-aeaa-00890cbcf704",
   "metadata": {},
   "outputs": [
    {
     "data": {
      "text/html": [
       "<div>\n",
       "<style scoped>\n",
       "    .dataframe tbody tr th:only-of-type {\n",
       "        vertical-align: middle;\n",
       "    }\n",
       "\n",
       "    .dataframe tbody tr th {\n",
       "        vertical-align: top;\n",
       "    }\n",
       "\n",
       "    .dataframe thead th {\n",
       "        text-align: right;\n",
       "    }\n",
       "</style>\n",
       "<table border=\"1\" class=\"dataframe\">\n",
       "  <thead>\n",
       "    <tr style=\"text-align: right;\">\n",
       "      <th></th>\n",
       "      <th>Customer_Segment</th>\n",
       "      <th>Units_Sold</th>\n",
       "    </tr>\n",
       "  </thead>\n",
       "  <tbody>\n",
       "    <tr>\n",
       "      <th>2</th>\n",
       "      <td>Regular</td>\n",
       "      <td>10222</td>\n",
       "    </tr>\n",
       "    <tr>\n",
       "      <th>0</th>\n",
       "      <td>Occasional</td>\n",
       "      <td>9842</td>\n",
       "    </tr>\n",
       "    <tr>\n",
       "      <th>1</th>\n",
       "      <td>Premium</td>\n",
       "      <td>9567</td>\n",
       "    </tr>\n",
       "  </tbody>\n",
       "</table>\n",
       "</div>"
      ],
      "text/plain": [
       "  Customer_Segment  Units_Sold\n",
       "2          Regular       10222\n",
       "0       Occasional        9842\n",
       "1          Premium        9567"
      ]
     },
     "execution_count": 192,
     "metadata": {},
     "output_type": "execute_result"
    }
   ],
   "source": [
    "Units_Sold_per_Customer_Segment = Data.groupby('Customer_Segment')['Units_Sold'].sum().reset_index()\n",
    "Units_Sold_per_Customer_Segment.sort_values(by=['Units_Sold'], ascending=False)"
   ]
  },
  {
   "cell_type": "code",
   "execution_count": 194,
   "id": "cf7d2e52-6308-4097-9ff1-c27b047769a4",
   "metadata": {},
   "outputs": [
    {
     "data": {
      "text/html": [
       "<div>\n",
       "<style scoped>\n",
       "    .dataframe tbody tr th:only-of-type {\n",
       "        vertical-align: middle;\n",
       "    }\n",
       "\n",
       "    .dataframe tbody tr th {\n",
       "        vertical-align: top;\n",
       "    }\n",
       "\n",
       "    .dataframe thead th {\n",
       "        text-align: right;\n",
       "    }\n",
       "</style>\n",
       "<table border=\"1\" class=\"dataframe\">\n",
       "  <thead>\n",
       "    <tr style=\"text-align: right;\">\n",
       "      <th></th>\n",
       "      <th>Product_Category</th>\n",
       "      <th>Units_Sold</th>\n",
       "    </tr>\n",
       "  </thead>\n",
       "  <tbody>\n",
       "    <tr>\n",
       "      <th>0</th>\n",
       "      <td>Electronics</td>\n",
       "      <td>6210</td>\n",
       "    </tr>\n",
       "    <tr>\n",
       "      <th>3</th>\n",
       "      <td>Sports</td>\n",
       "      <td>6125</td>\n",
       "    </tr>\n",
       "    <tr>\n",
       "      <th>4</th>\n",
       "      <td>Toys</td>\n",
       "      <td>6003</td>\n",
       "    </tr>\n",
       "    <tr>\n",
       "      <th>1</th>\n",
       "      <td>Fashion</td>\n",
       "      <td>5650</td>\n",
       "    </tr>\n",
       "    <tr>\n",
       "      <th>2</th>\n",
       "      <td>Home Decor</td>\n",
       "      <td>5643</td>\n",
       "    </tr>\n",
       "  </tbody>\n",
       "</table>\n",
       "</div>"
      ],
      "text/plain": [
       "  Product_Category  Units_Sold\n",
       "0      Electronics        6210\n",
       "3           Sports        6125\n",
       "4             Toys        6003\n",
       "1          Fashion        5650\n",
       "2       Home Decor        5643"
      ]
     },
     "execution_count": 194,
     "metadata": {},
     "output_type": "execute_result"
    }
   ],
   "source": [
    "Units_Sold_per_Product_Category = Data.groupby('Product_Category')['Units_Sold'].sum().reset_index()\n",
    "Units_Sold_per_Product_Category.sort_values(by=['Units_Sold'], ascending=False)"
   ]
  },
  {
   "cell_type": "markdown",
   "id": "1446c280-e150-4141-9caf-df796f243106",
   "metadata": {},
   "source": [
    "#### Total Units Sold is :"
   ]
  },
  {
   "cell_type": "code",
   "execution_count": 196,
   "id": "29808a10-69f5-4bcc-a0c1-1198adab2df6",
   "metadata": {},
   "outputs": [
    {
     "data": {
      "text/plain": [
       "29631"
      ]
     },
     "execution_count": 196,
     "metadata": {},
     "output_type": "execute_result"
    }
   ],
   "source": [
    "Total_Units_Sold= Data['Units_Sold'].sum()\n",
    "Total_Units_Sold"
   ]
  },
  {
   "cell_type": "markdown",
   "id": "f2060dde-d4d4-41a1-aa6e-b4a14ac976e0",
   "metadata": {
    "jp-MarkdownHeadingCollapsed": true
   },
   "source": [
    "### 2) Revenue"
   ]
  },
  {
   "cell_type": "code",
   "execution_count": 22,
   "id": "b673976e-0fa0-48bb-87d4-222b2b2bbc05",
   "metadata": {},
   "outputs": [
    {
     "data": {
      "text/html": [
       "<div>\n",
       "<style scoped>\n",
       "    .dataframe tbody tr th:only-of-type {\n",
       "        vertical-align: middle;\n",
       "    }\n",
       "\n",
       "    .dataframe tbody tr th {\n",
       "        vertical-align: top;\n",
       "    }\n",
       "\n",
       "    .dataframe thead th {\n",
       "        text-align: right;\n",
       "    }\n",
       "</style>\n",
       "<table border=\"1\" class=\"dataframe\">\n",
       "  <thead>\n",
       "    <tr style=\"text-align: right;\">\n",
       "      <th></th>\n",
       "      <th>Date</th>\n",
       "      <th>Product_Category</th>\n",
       "      <th>Price</th>\n",
       "      <th>Discount</th>\n",
       "      <th>Customer_Segment</th>\n",
       "      <th>Marketing_Spend</th>\n",
       "      <th>Units_Sold</th>\n",
       "      <th>Revenue</th>\n",
       "    </tr>\n",
       "  </thead>\n",
       "  <tbody>\n",
       "    <tr>\n",
       "      <th>0</th>\n",
       "      <td>2023-01-01</td>\n",
       "      <td>Sports</td>\n",
       "      <td>932.80</td>\n",
       "      <td>35.82</td>\n",
       "      <td>Occasional</td>\n",
       "      <td>6780.38</td>\n",
       "      <td>32</td>\n",
       "      <td>29849.60</td>\n",
       "    </tr>\n",
       "    <tr>\n",
       "      <th>1</th>\n",
       "      <td>2023-02-01</td>\n",
       "      <td>Toys</td>\n",
       "      <td>569.48</td>\n",
       "      <td>3.60</td>\n",
       "      <td>Premium</td>\n",
       "      <td>6807.56</td>\n",
       "      <td>16</td>\n",
       "      <td>9111.68</td>\n",
       "    </tr>\n",
       "    <tr>\n",
       "      <th>2</th>\n",
       "      <td>2023-03-01</td>\n",
       "      <td>Home Decor</td>\n",
       "      <td>699.68</td>\n",
       "      <td>3.56</td>\n",
       "      <td>Premium</td>\n",
       "      <td>3793.91</td>\n",
       "      <td>27</td>\n",
       "      <td>18891.36</td>\n",
       "    </tr>\n",
       "    <tr>\n",
       "      <th>3</th>\n",
       "      <td>2023-04-01</td>\n",
       "      <td>Toys</td>\n",
       "      <td>923.27</td>\n",
       "      <td>0.61</td>\n",
       "      <td>Premium</td>\n",
       "      <td>9422.75</td>\n",
       "      <td>29</td>\n",
       "      <td>26774.83</td>\n",
       "    </tr>\n",
       "    <tr>\n",
       "      <th>4</th>\n",
       "      <td>2023-05-01</td>\n",
       "      <td>Toys</td>\n",
       "      <td>710.17</td>\n",
       "      <td>47.83</td>\n",
       "      <td>Premium</td>\n",
       "      <td>1756.83</td>\n",
       "      <td>17</td>\n",
       "      <td>12072.89</td>\n",
       "    </tr>\n",
       "    <tr>\n",
       "      <th>...</th>\n",
       "      <td>...</td>\n",
       "      <td>...</td>\n",
       "      <td>...</td>\n",
       "      <td>...</td>\n",
       "      <td>...</td>\n",
       "      <td>...</td>\n",
       "      <td>...</td>\n",
       "      <td>...</td>\n",
       "    </tr>\n",
       "    <tr>\n",
       "      <th>995</th>\n",
       "      <td>2025-09-22</td>\n",
       "      <td>Fashion</td>\n",
       "      <td>740.06</td>\n",
       "      <td>49.06</td>\n",
       "      <td>Regular</td>\n",
       "      <td>1890.83</td>\n",
       "      <td>34</td>\n",
       "      <td>25162.04</td>\n",
       "    </tr>\n",
       "    <tr>\n",
       "      <th>996</th>\n",
       "      <td>2025-09-23</td>\n",
       "      <td>Electronics</td>\n",
       "      <td>517.10</td>\n",
       "      <td>28.48</td>\n",
       "      <td>Premium</td>\n",
       "      <td>8011.66</td>\n",
       "      <td>21</td>\n",
       "      <td>10859.10</td>\n",
       "    </tr>\n",
       "    <tr>\n",
       "      <th>997</th>\n",
       "      <td>2025-09-24</td>\n",
       "      <td>Electronics</td>\n",
       "      <td>683.43</td>\n",
       "      <td>12.98</td>\n",
       "      <td>Occasional</td>\n",
       "      <td>3408.51</td>\n",
       "      <td>19</td>\n",
       "      <td>12985.17</td>\n",
       "    </tr>\n",
       "    <tr>\n",
       "      <th>998</th>\n",
       "      <td>2025-09-25</td>\n",
       "      <td>Sports</td>\n",
       "      <td>51.26</td>\n",
       "      <td>21.85</td>\n",
       "      <td>Occasional</td>\n",
       "      <td>7335.62</td>\n",
       "      <td>26</td>\n",
       "      <td>1332.76</td>\n",
       "    </tr>\n",
       "    <tr>\n",
       "      <th>999</th>\n",
       "      <td>2025-09-26</td>\n",
       "      <td>Home Decor</td>\n",
       "      <td>93.94</td>\n",
       "      <td>29.68</td>\n",
       "      <td>Regular</td>\n",
       "      <td>4258.11</td>\n",
       "      <td>39</td>\n",
       "      <td>3663.66</td>\n",
       "    </tr>\n",
       "  </tbody>\n",
       "</table>\n",
       "<p>1000 rows × 8 columns</p>\n",
       "</div>"
      ],
      "text/plain": [
       "          Date Product_Category   Price  Discount Customer_Segment  \\\n",
       "0   2023-01-01           Sports  932.80     35.82       Occasional   \n",
       "1   2023-02-01             Toys  569.48      3.60          Premium   \n",
       "2   2023-03-01       Home Decor  699.68      3.56          Premium   \n",
       "3   2023-04-01             Toys  923.27      0.61          Premium   \n",
       "4   2023-05-01             Toys  710.17     47.83          Premium   \n",
       "..         ...              ...     ...       ...              ...   \n",
       "995 2025-09-22          Fashion  740.06     49.06          Regular   \n",
       "996 2025-09-23      Electronics  517.10     28.48          Premium   \n",
       "997 2025-09-24      Electronics  683.43     12.98       Occasional   \n",
       "998 2025-09-25           Sports   51.26     21.85       Occasional   \n",
       "999 2025-09-26       Home Decor   93.94     29.68          Regular   \n",
       "\n",
       "     Marketing_Spend  Units_Sold   Revenue  \n",
       "0            6780.38          32  29849.60  \n",
       "1            6807.56          16   9111.68  \n",
       "2            3793.91          27  18891.36  \n",
       "3            9422.75          29  26774.83  \n",
       "4            1756.83          17  12072.89  \n",
       "..               ...         ...       ...  \n",
       "995          1890.83          34  25162.04  \n",
       "996          8011.66          21  10859.10  \n",
       "997          3408.51          19  12985.17  \n",
       "998          7335.62          26   1332.76  \n",
       "999          4258.11          39   3663.66  \n",
       "\n",
       "[1000 rows x 8 columns]"
      ]
     },
     "execution_count": 22,
     "metadata": {},
     "output_type": "execute_result"
    }
   ],
   "source": [
    "Data['Revenue']= Data.Price * Data.Units_Sold\n",
    "Data"
   ]
  },
  {
   "cell_type": "markdown",
   "id": "0128f56b-73f6-4eed-8622-de82deacb489",
   "metadata": {},
   "source": [
    "#### Total Revenue is :  "
   ]
  },
  {
   "cell_type": "code",
   "execution_count": 24,
   "id": "728e5951-706b-4d44-b8a0-ab825e1a03ef",
   "metadata": {},
   "outputs": [
    {
     "data": {
      "text/plain": [
       "15002484.56"
      ]
     },
     "execution_count": 24,
     "metadata": {},
     "output_type": "execute_result"
    }
   ],
   "source": [
    "Data['Revenue'].sum()"
   ]
  },
  {
   "cell_type": "markdown",
   "id": "5749596f-09a4-4660-9b2d-0ce2351e7cb8",
   "metadata": {
    "jp-MarkdownHeadingCollapsed": true
   },
   "source": [
    "### 3) Discounted Revenu"
   ]
  },
  {
   "cell_type": "code",
   "execution_count": 82,
   "id": "850c6695-b8af-4b73-a3a2-eede368ded0c",
   "metadata": {},
   "outputs": [
    {
     "data": {
      "text/html": [
       "<div>\n",
       "<style scoped>\n",
       "    .dataframe tbody tr th:only-of-type {\n",
       "        vertical-align: middle;\n",
       "    }\n",
       "\n",
       "    .dataframe tbody tr th {\n",
       "        vertical-align: top;\n",
       "    }\n",
       "\n",
       "    .dataframe thead th {\n",
       "        text-align: right;\n",
       "    }\n",
       "</style>\n",
       "<table border=\"1\" class=\"dataframe\">\n",
       "  <thead>\n",
       "    <tr style=\"text-align: right;\">\n",
       "      <th></th>\n",
       "      <th>Date</th>\n",
       "      <th>Product_Category</th>\n",
       "      <th>Price</th>\n",
       "      <th>Discount</th>\n",
       "      <th>Customer_Segment</th>\n",
       "      <th>Marketing_Spend</th>\n",
       "      <th>Units_Sold</th>\n",
       "      <th>Revenue</th>\n",
       "      <th>Discounted_Revenue</th>\n",
       "      <th>Profit</th>\n",
       "    </tr>\n",
       "  </thead>\n",
       "  <tbody>\n",
       "    <tr>\n",
       "      <th>0</th>\n",
       "      <td>2023-01-01</td>\n",
       "      <td>Sports</td>\n",
       "      <td>932.80</td>\n",
       "      <td>3.582000e-05</td>\n",
       "      <td>Occasional</td>\n",
       "      <td>6780.38</td>\n",
       "      <td>32</td>\n",
       "      <td>29849.60</td>\n",
       "      <td>29848.5</td>\n",
       "      <td>23068.1</td>\n",
       "    </tr>\n",
       "    <tr>\n",
       "      <th>1</th>\n",
       "      <td>2023-02-01</td>\n",
       "      <td>Toys</td>\n",
       "      <td>569.48</td>\n",
       "      <td>3.600000e-06</td>\n",
       "      <td>Premium</td>\n",
       "      <td>6807.56</td>\n",
       "      <td>16</td>\n",
       "      <td>9111.68</td>\n",
       "      <td>9111.6</td>\n",
       "      <td>2304.0</td>\n",
       "    </tr>\n",
       "    <tr>\n",
       "      <th>2</th>\n",
       "      <td>2023-03-01</td>\n",
       "      <td>Home Decor</td>\n",
       "      <td>699.68</td>\n",
       "      <td>3.560000e-06</td>\n",
       "      <td>Premium</td>\n",
       "      <td>3793.91</td>\n",
       "      <td>27</td>\n",
       "      <td>18891.36</td>\n",
       "      <td>18891.3</td>\n",
       "      <td>15097.4</td>\n",
       "    </tr>\n",
       "    <tr>\n",
       "      <th>3</th>\n",
       "      <td>2023-04-01</td>\n",
       "      <td>Toys</td>\n",
       "      <td>923.27</td>\n",
       "      <td>6.100000e-07</td>\n",
       "      <td>Premium</td>\n",
       "      <td>9422.75</td>\n",
       "      <td>29</td>\n",
       "      <td>26774.83</td>\n",
       "      <td>26774.8</td>\n",
       "      <td>17352.0</td>\n",
       "    </tr>\n",
       "    <tr>\n",
       "      <th>4</th>\n",
       "      <td>2023-05-01</td>\n",
       "      <td>Toys</td>\n",
       "      <td>710.17</td>\n",
       "      <td>4.783000e-05</td>\n",
       "      <td>Premium</td>\n",
       "      <td>1756.83</td>\n",
       "      <td>17</td>\n",
       "      <td>12072.89</td>\n",
       "      <td>12072.3</td>\n",
       "      <td>10315.5</td>\n",
       "    </tr>\n",
       "    <tr>\n",
       "      <th>...</th>\n",
       "      <td>...</td>\n",
       "      <td>...</td>\n",
       "      <td>...</td>\n",
       "      <td>...</td>\n",
       "      <td>...</td>\n",
       "      <td>...</td>\n",
       "      <td>...</td>\n",
       "      <td>...</td>\n",
       "      <td>...</td>\n",
       "      <td>...</td>\n",
       "    </tr>\n",
       "    <tr>\n",
       "      <th>995</th>\n",
       "      <td>2025-09-22</td>\n",
       "      <td>Fashion</td>\n",
       "      <td>740.06</td>\n",
       "      <td>4.906000e-05</td>\n",
       "      <td>Regular</td>\n",
       "      <td>1890.83</td>\n",
       "      <td>34</td>\n",
       "      <td>25162.04</td>\n",
       "      <td>25160.8</td>\n",
       "      <td>23270.0</td>\n",
       "    </tr>\n",
       "    <tr>\n",
       "      <th>996</th>\n",
       "      <td>2025-09-23</td>\n",
       "      <td>Electronics</td>\n",
       "      <td>517.10</td>\n",
       "      <td>2.848000e-05</td>\n",
       "      <td>Premium</td>\n",
       "      <td>8011.66</td>\n",
       "      <td>21</td>\n",
       "      <td>10859.10</td>\n",
       "      <td>10858.8</td>\n",
       "      <td>2847.1</td>\n",
       "    </tr>\n",
       "    <tr>\n",
       "      <th>997</th>\n",
       "      <td>2025-09-24</td>\n",
       "      <td>Electronics</td>\n",
       "      <td>683.43</td>\n",
       "      <td>1.298000e-05</td>\n",
       "      <td>Occasional</td>\n",
       "      <td>3408.51</td>\n",
       "      <td>19</td>\n",
       "      <td>12985.17</td>\n",
       "      <td>12985.0</td>\n",
       "      <td>9576.5</td>\n",
       "    </tr>\n",
       "    <tr>\n",
       "      <th>998</th>\n",
       "      <td>2025-09-25</td>\n",
       "      <td>Sports</td>\n",
       "      <td>51.26</td>\n",
       "      <td>2.185000e-05</td>\n",
       "      <td>Occasional</td>\n",
       "      <td>7335.62</td>\n",
       "      <td>26</td>\n",
       "      <td>1332.76</td>\n",
       "      <td>1332.7</td>\n",
       "      <td>-6002.9</td>\n",
       "    </tr>\n",
       "    <tr>\n",
       "      <th>999</th>\n",
       "      <td>2025-09-26</td>\n",
       "      <td>Home Decor</td>\n",
       "      <td>93.94</td>\n",
       "      <td>2.968000e-05</td>\n",
       "      <td>Regular</td>\n",
       "      <td>4258.11</td>\n",
       "      <td>39</td>\n",
       "      <td>3663.66</td>\n",
       "      <td>3663.6</td>\n",
       "      <td>-594.5</td>\n",
       "    </tr>\n",
       "  </tbody>\n",
       "</table>\n",
       "<p>1000 rows × 10 columns</p>\n",
       "</div>"
      ],
      "text/plain": [
       "          Date Product_Category   Price      Discount Customer_Segment  \\\n",
       "0   2023-01-01           Sports  932.80  3.582000e-05       Occasional   \n",
       "1   2023-02-01             Toys  569.48  3.600000e-06          Premium   \n",
       "2   2023-03-01       Home Decor  699.68  3.560000e-06          Premium   \n",
       "3   2023-04-01             Toys  923.27  6.100000e-07          Premium   \n",
       "4   2023-05-01             Toys  710.17  4.783000e-05          Premium   \n",
       "..         ...              ...     ...           ...              ...   \n",
       "995 2025-09-22          Fashion  740.06  4.906000e-05          Regular   \n",
       "996 2025-09-23      Electronics  517.10  2.848000e-05          Premium   \n",
       "997 2025-09-24      Electronics  683.43  1.298000e-05       Occasional   \n",
       "998 2025-09-25           Sports   51.26  2.185000e-05       Occasional   \n",
       "999 2025-09-26       Home Decor   93.94  2.968000e-05          Regular   \n",
       "\n",
       "     Marketing_Spend  Units_Sold   Revenue  Discounted_Revenue   Profit  \n",
       "0            6780.38          32  29849.60             29848.5  23068.1  \n",
       "1            6807.56          16   9111.68              9111.6   2304.0  \n",
       "2            3793.91          27  18891.36             18891.3  15097.4  \n",
       "3            9422.75          29  26774.83             26774.8  17352.0  \n",
       "4            1756.83          17  12072.89             12072.3  10315.5  \n",
       "..               ...         ...       ...                 ...      ...  \n",
       "995          1890.83          34  25162.04             25160.8  23270.0  \n",
       "996          8011.66          21  10859.10             10858.8   2847.1  \n",
       "997          3408.51          19  12985.17             12985.0   9576.5  \n",
       "998          7335.62          26   1332.76              1332.7  -6002.9  \n",
       "999          4258.11          39   3663.66              3663.6   -594.5  \n",
       "\n",
       "[1000 rows x 10 columns]"
      ]
     },
     "execution_count": 82,
     "metadata": {},
     "output_type": "execute_result"
    }
   ],
   "source": [
    "Data['Discount'] = Data['Discount'] / 100\n",
    "Data['Discounted_Revenue']=( Data.Revenue * (1-Data.Discount)).round(1)\n",
    "Data['Profit'] =( Data['Discounted_Revenue'] - Data['Marketing_Spend']).round(1)\n",
    "\n",
    "Data"
   ]
  },
  {
   "cell_type": "markdown",
   "id": "f37413cf-5f28-4e22-a42b-38305f303714",
   "metadata": {},
   "source": [
    "#### Total Discounted Revenue is :  "
   ]
  },
  {
   "cell_type": "code",
   "execution_count": 28,
   "id": "e9e1bc0b-c537-45fc-b55b-54e2dfdc73ef",
   "metadata": {},
   "outputs": [
    {
     "data": {
      "text/plain": [
       "11238292.6"
      ]
     },
     "execution_count": 28,
     "metadata": {},
     "output_type": "execute_result"
    }
   ],
   "source": [
    "Discounted_Revenue = Data['Discounted_Revenue'].sum().round(1)\n",
    "Discounted_Revenue"
   ]
  },
  {
   "cell_type": "markdown",
   "id": "c448ab7b-a98e-4c1a-8c26-d34e99b810fe",
   "metadata": {
    "jp-MarkdownHeadingCollapsed": true
   },
   "source": [
    "### 4) Discounted Revenue & Profit per Product Category"
   ]
  },
  {
   "cell_type": "code",
   "execution_count": 126,
   "id": "54680d66-1c21-493d-af72-8a5df4aa6a4a",
   "metadata": {},
   "outputs": [
    {
     "data": {
      "text/html": [
       "<div>\n",
       "<style scoped>\n",
       "    .dataframe tbody tr th:only-of-type {\n",
       "        vertical-align: middle;\n",
       "    }\n",
       "\n",
       "    .dataframe tbody tr th {\n",
       "        vertical-align: top;\n",
       "    }\n",
       "\n",
       "    .dataframe thead th {\n",
       "        text-align: right;\n",
       "    }\n",
       "</style>\n",
       "<table border=\"1\" class=\"dataframe\">\n",
       "  <thead>\n",
       "    <tr style=\"text-align: right;\">\n",
       "      <th></th>\n",
       "      <th>Product_Category</th>\n",
       "      <th>Profit</th>\n",
       "      <th>Discounted_Revenue</th>\n",
       "    </tr>\n",
       "  </thead>\n",
       "  <tbody>\n",
       "    <tr>\n",
       "      <th>3</th>\n",
       "      <td>Sports</td>\n",
       "      <td>2223080.4</td>\n",
       "      <td>3201328.3</td>\n",
       "    </tr>\n",
       "    <tr>\n",
       "      <th>1</th>\n",
       "      <td>Fashion</td>\n",
       "      <td>2047141.1</td>\n",
       "      <td>2968096.0</td>\n",
       "    </tr>\n",
       "    <tr>\n",
       "      <th>4</th>\n",
       "      <td>Toys</td>\n",
       "      <td>2019958.9</td>\n",
       "      <td>3030507.0</td>\n",
       "    </tr>\n",
       "    <tr>\n",
       "      <th>0</th>\n",
       "      <td>Electronics</td>\n",
       "      <td>1958020.7</td>\n",
       "      <td>3022374.5</td>\n",
       "    </tr>\n",
       "    <tr>\n",
       "      <th>2</th>\n",
       "      <td>Home Decor</td>\n",
       "      <td>1841075.3</td>\n",
       "      <td>2779801.2</td>\n",
       "    </tr>\n",
       "  </tbody>\n",
       "</table>\n",
       "</div>"
      ],
      "text/plain": [
       "  Product_Category     Profit  Discounted_Revenue\n",
       "3           Sports  2223080.4           3201328.3\n",
       "1          Fashion  2047141.1           2968096.0\n",
       "4             Toys  2019958.9           3030507.0\n",
       "0      Electronics  1958020.7           3022374.5\n",
       "2       Home Decor  1841075.3           2779801.2"
      ]
     },
     "execution_count": 126,
     "metadata": {},
     "output_type": "execute_result"
    }
   ],
   "source": [
    "Dis_Rev_Profit_per_Product_Category = Data.groupby('Product_Category')[['Profit','Discounted_Revenue']].sum().reset_index()\n",
    "Dis_Rev_Profit_per_Product_Category.sort_values(by=['Profit'], ascending=False)"
   ]
  },
  {
   "cell_type": "markdown",
   "id": "f9ae1a8a-eb05-4e79-a7d9-e3c5f1cc43c9",
   "metadata": {},
   "source": [
    "### 5) Discounted Revenue & Profit per Product Category per Customer Segment"
   ]
  },
  {
   "cell_type": "code",
   "execution_count": 166,
   "id": "c5eb1fc3-b201-4835-ae63-1a9c442f7b65",
   "metadata": {},
   "outputs": [
    {
     "data": {
      "text/html": [
       "<div>\n",
       "<style scoped>\n",
       "    .dataframe tbody tr th:only-of-type {\n",
       "        vertical-align: middle;\n",
       "    }\n",
       "\n",
       "    .dataframe tbody tr th {\n",
       "        vertical-align: top;\n",
       "    }\n",
       "\n",
       "    .dataframe thead th {\n",
       "        text-align: right;\n",
       "    }\n",
       "</style>\n",
       "<table border=\"1\" class=\"dataframe\">\n",
       "  <thead>\n",
       "    <tr style=\"text-align: right;\">\n",
       "      <th></th>\n",
       "      <th>Product_Category</th>\n",
       "      <th>Customer_Segment</th>\n",
       "      <th>Profit</th>\n",
       "      <th>Discounted_Revenue</th>\n",
       "    </tr>\n",
       "  </thead>\n",
       "  <tbody>\n",
       "    <tr>\n",
       "      <th>14</th>\n",
       "      <td>Toys</td>\n",
       "      <td>Regular</td>\n",
       "      <td>674408.7</td>\n",
       "      <td>964237.5</td>\n",
       "    </tr>\n",
       "    <tr>\n",
       "      <th>13</th>\n",
       "      <td>Toys</td>\n",
       "      <td>Premium</td>\n",
       "      <td>674323.5</td>\n",
       "      <td>1001611.3</td>\n",
       "    </tr>\n",
       "    <tr>\n",
       "      <th>12</th>\n",
       "      <td>Toys</td>\n",
       "      <td>Occasional</td>\n",
       "      <td>671226.7</td>\n",
       "      <td>1064658.2</td>\n",
       "    </tr>\n",
       "    <tr>\n",
       "      <th>10</th>\n",
       "      <td>Sports</td>\n",
       "      <td>Premium</td>\n",
       "      <td>776082.8</td>\n",
       "      <td>1095368.5</td>\n",
       "    </tr>\n",
       "    <tr>\n",
       "      <th>9</th>\n",
       "      <td>Sports</td>\n",
       "      <td>Occasional</td>\n",
       "      <td>738545.9</td>\n",
       "      <td>1004006.5</td>\n",
       "    </tr>\n",
       "    <tr>\n",
       "      <th>11</th>\n",
       "      <td>Sports</td>\n",
       "      <td>Regular</td>\n",
       "      <td>708451.7</td>\n",
       "      <td>1101953.3</td>\n",
       "    </tr>\n",
       "    <tr>\n",
       "      <th>6</th>\n",
       "      <td>Home Decor</td>\n",
       "      <td>Occasional</td>\n",
       "      <td>745624.9</td>\n",
       "      <td>1092803.7</td>\n",
       "    </tr>\n",
       "    <tr>\n",
       "      <th>8</th>\n",
       "      <td>Home Decor</td>\n",
       "      <td>Regular</td>\n",
       "      <td>603695.0</td>\n",
       "      <td>909714.3</td>\n",
       "    </tr>\n",
       "    <tr>\n",
       "      <th>7</th>\n",
       "      <td>Home Decor</td>\n",
       "      <td>Premium</td>\n",
       "      <td>491755.4</td>\n",
       "      <td>777283.2</td>\n",
       "    </tr>\n",
       "    <tr>\n",
       "      <th>3</th>\n",
       "      <td>Fashion</td>\n",
       "      <td>Occasional</td>\n",
       "      <td>819737.9</td>\n",
       "      <td>1133753.5</td>\n",
       "    </tr>\n",
       "    <tr>\n",
       "      <th>4</th>\n",
       "      <td>Fashion</td>\n",
       "      <td>Premium</td>\n",
       "      <td>623250.2</td>\n",
       "      <td>915435.7</td>\n",
       "    </tr>\n",
       "    <tr>\n",
       "      <th>5</th>\n",
       "      <td>Fashion</td>\n",
       "      <td>Regular</td>\n",
       "      <td>604153.0</td>\n",
       "      <td>918906.8</td>\n",
       "    </tr>\n",
       "    <tr>\n",
       "      <th>2</th>\n",
       "      <td>Electronics</td>\n",
       "      <td>Regular</td>\n",
       "      <td>784830.5</td>\n",
       "      <td>1201453.3</td>\n",
       "    </tr>\n",
       "    <tr>\n",
       "      <th>0</th>\n",
       "      <td>Electronics</td>\n",
       "      <td>Occasional</td>\n",
       "      <td>621776.9</td>\n",
       "      <td>956794.8</td>\n",
       "    </tr>\n",
       "    <tr>\n",
       "      <th>1</th>\n",
       "      <td>Electronics</td>\n",
       "      <td>Premium</td>\n",
       "      <td>551413.3</td>\n",
       "      <td>864126.4</td>\n",
       "    </tr>\n",
       "  </tbody>\n",
       "</table>\n",
       "</div>"
      ],
      "text/plain": [
       "   Product_Category Customer_Segment    Profit  Discounted_Revenue\n",
       "14             Toys          Regular  674408.7            964237.5\n",
       "13             Toys          Premium  674323.5           1001611.3\n",
       "12             Toys       Occasional  671226.7           1064658.2\n",
       "10           Sports          Premium  776082.8           1095368.5\n",
       "9            Sports       Occasional  738545.9           1004006.5\n",
       "11           Sports          Regular  708451.7           1101953.3\n",
       "6        Home Decor       Occasional  745624.9           1092803.7\n",
       "8        Home Decor          Regular  603695.0            909714.3\n",
       "7        Home Decor          Premium  491755.4            777283.2\n",
       "3           Fashion       Occasional  819737.9           1133753.5\n",
       "4           Fashion          Premium  623250.2            915435.7\n",
       "5           Fashion          Regular  604153.0            918906.8\n",
       "2       Electronics          Regular  784830.5           1201453.3\n",
       "0       Electronics       Occasional  621776.9            956794.8\n",
       "1       Electronics          Premium  551413.3            864126.4"
      ]
     },
     "execution_count": 166,
     "metadata": {},
     "output_type": "execute_result"
    }
   ],
   "source": [
    "Dis_Rev_Profit_per_Product_Category_Customer_Segment= Data.groupby(['Product_Category','Customer_Segment'])[['Profit','Discounted_Revenue']].sum().reset_index()\n",
    "Dis_Rev_Profit_per_Product_Category_Customer_Segment.sort_values(by=['Product_Category', 'Profit'], ascending=False)"
   ]
  },
  {
   "cell_type": "markdown",
   "id": "3e662191-ba7a-465b-a73f-9e160423be9b",
   "metadata": {},
   "source": [
    "### 3) Profit per Product Category"
   ]
  },
  {
   "cell_type": "markdown",
   "id": "5dc26e01-be2f-4c15-86c5-3bafceeeb499",
   "metadata": {},
   "source": [
    "### 3) Profit per Product Category"
   ]
  },
  {
   "cell_type": "markdown",
   "id": "7a7a65dc-e048-419f-bd81-3f408f4cfbec",
   "metadata": {
    "jp-MarkdownHeadingCollapsed": true
   },
   "source": [
    "### 3) KPIs :"
   ]
  },
  {
   "cell_type": "markdown",
   "id": "6538efa7-9465-401b-a443-4a0545c65cb1",
   "metadata": {},
   "source": [
    "#### Gross Profit is :  "
   ]
  },
  {
   "cell_type": "code",
   "execution_count": 68,
   "id": "bde7aa41-1de2-44d2-b8a1-e7647ac46796",
   "metadata": {},
   "outputs": [
    {
     "data": {
      "text/plain": [
       "6325462.8"
      ]
     },
     "execution_count": 68,
     "metadata": {},
     "output_type": "execute_result"
    }
   ],
   "source": [
    "Gross_Profit= Data['Profit'].sum().round(1)\n",
    "Gross_Profit"
   ]
  },
  {
   "cell_type": "markdown",
   "id": "6854f9ac-1fc7-4029-ad7e-aea98571a5df",
   "metadata": {},
   "source": [
    "#### Gross Margin is :"
   ]
  },
  {
   "cell_type": "code",
   "execution_count": 76,
   "id": "22f26dea-d31e-4151-927f-4035694aac93",
   "metadata": {},
   "outputs": [
    {
     "data": {
      "text/plain": [
       "0.56"
      ]
     },
     "execution_count": 76,
     "metadata": {},
     "output_type": "execute_result"
    }
   ],
   "source": [
    "Gross_margin=(Gross_Profit/Discounted_Revenue).round(2)\n",
    "Gross_margin"
   ]
  },
  {
   "cell_type": "markdown",
   "id": "7802fab6-0693-4b81-a953-9b9cc69601a6",
   "metadata": {},
   "source": [
    "#### Average Order Value (AOV)"
   ]
  },
  {
   "cell_type": "code",
   "execution_count": 78,
   "id": "3d1647c0-9e67-41da-aa45-957cb7bd71fe",
   "metadata": {},
   "outputs": [
    {
     "data": {
      "text/plain": [
       "379.3"
      ]
     },
     "execution_count": 78,
     "metadata": {},
     "output_type": "execute_result"
    }
   ],
   "source": [
    "AOV=(Discounted_Revenue/Data['Units_Sold'].sum()).round(1)\n",
    "AOV"
   ]
  },
  {
   "cell_type": "markdown",
   "id": "03983067-4e19-4eb0-b889-400eac2c8cf3",
   "metadata": {},
   "source": [
    "## ii) Marketing Performance Analysis"
   ]
  },
  {
   "cell_type": "markdown",
   "id": "7291a7f4-8560-4087-8ac2-23b175d40afe",
   "metadata": {},
   "source": [
    "### 1) Sales per Marketing Dirham"
   ]
  },
  {
   "cell_type": "markdown",
   "id": "416b96d9-4e24-47e0-af8f-aec33ba1a296",
   "metadata": {},
   "source": [
    "## iii) Customer and Segmentation Analysis"
   ]
  },
  {
   "cell_type": "markdown",
   "id": "66810992-43e3-4c2c-938e-4746f5cb07f1",
   "metadata": {
    "jp-MarkdownHeadingCollapsed": true
   },
   "source": [
    "### 1) Discounted_Revenue & Profit per Customer Segment"
   ]
  },
  {
   "cell_type": "code",
   "execution_count": 181,
   "id": "8c97884f-50ac-4081-a40c-0cacdb06b45c",
   "metadata": {},
   "outputs": [
    {
     "data": {
      "text/html": [
       "<div>\n",
       "<style scoped>\n",
       "    .dataframe tbody tr th:only-of-type {\n",
       "        vertical-align: middle;\n",
       "    }\n",
       "\n",
       "    .dataframe tbody tr th {\n",
       "        vertical-align: top;\n",
       "    }\n",
       "\n",
       "    .dataframe thead th {\n",
       "        text-align: right;\n",
       "    }\n",
       "</style>\n",
       "<table border=\"1\" class=\"dataframe\">\n",
       "  <thead>\n",
       "    <tr style=\"text-align: right;\">\n",
       "      <th></th>\n",
       "      <th>Customer_Segment</th>\n",
       "      <th>Profit</th>\n",
       "      <th>Discounted_Revenue</th>\n",
       "    </tr>\n",
       "  </thead>\n",
       "  <tbody>\n",
       "    <tr>\n",
       "      <th>0</th>\n",
       "      <td>Occasional</td>\n",
       "      <td>3596912.3</td>\n",
       "      <td>5252016.7</td>\n",
       "    </tr>\n",
       "    <tr>\n",
       "      <th>2</th>\n",
       "      <td>Regular</td>\n",
       "      <td>3375538.9</td>\n",
       "      <td>5096265.2</td>\n",
       "    </tr>\n",
       "    <tr>\n",
       "      <th>1</th>\n",
       "      <td>Premium</td>\n",
       "      <td>3116825.2</td>\n",
       "      <td>4653825.1</td>\n",
       "    </tr>\n",
       "  </tbody>\n",
       "</table>\n",
       "</div>"
      ],
      "text/plain": [
       "  Customer_Segment     Profit  Discounted_Revenue\n",
       "0       Occasional  3596912.3           5252016.7\n",
       "2          Regular  3375538.9           5096265.2\n",
       "1          Premium  3116825.2           4653825.1"
      ]
     },
     "execution_count": 181,
     "metadata": {},
     "output_type": "execute_result"
    }
   ],
   "source": [
    "Dis_Rev_Profit_per_Customer_Segment = Data.groupby('Customer_Segment')[['Profit','Discounted_Revenue']].sum().reset_index()\n",
    "Dis_Rev_Profit_per_Customer_Segment.sort_values(by=['Profit'], ascending=False)"
   ]
  },
  {
   "cell_type": "markdown",
   "id": "2199753f-bd06-4ca1-9021-837964cf778a",
   "metadata": {
    "jp-MarkdownHeadingCollapsed": true
   },
   "source": [
    "### 2) Discounted_Revenue & Profit per Customer Segment per Product Category"
   ]
  },
  {
   "cell_type": "code",
   "execution_count": 156,
   "id": "60fc2b5f-e9f1-414c-860f-9271c3802a13",
   "metadata": {},
   "outputs": [
    {
     "data": {
      "text/html": [
       "<div>\n",
       "<style scoped>\n",
       "    .dataframe tbody tr th:only-of-type {\n",
       "        vertical-align: middle;\n",
       "    }\n",
       "\n",
       "    .dataframe tbody tr th {\n",
       "        vertical-align: top;\n",
       "    }\n",
       "\n",
       "    .dataframe thead th {\n",
       "        text-align: right;\n",
       "    }\n",
       "</style>\n",
       "<table border=\"1\" class=\"dataframe\">\n",
       "  <thead>\n",
       "    <tr style=\"text-align: right;\">\n",
       "      <th></th>\n",
       "      <th>Customer_Segment</th>\n",
       "      <th>Product_Category</th>\n",
       "      <th>Profit</th>\n",
       "      <th>Discounted_Revenue</th>\n",
       "    </tr>\n",
       "  </thead>\n",
       "  <tbody>\n",
       "    <tr>\n",
       "      <th>10</th>\n",
       "      <td>Regular</td>\n",
       "      <td>Electronics</td>\n",
       "      <td>784830.5</td>\n",
       "      <td>1201453.3</td>\n",
       "    </tr>\n",
       "    <tr>\n",
       "      <th>13</th>\n",
       "      <td>Regular</td>\n",
       "      <td>Sports</td>\n",
       "      <td>708451.7</td>\n",
       "      <td>1101953.3</td>\n",
       "    </tr>\n",
       "    <tr>\n",
       "      <th>14</th>\n",
       "      <td>Regular</td>\n",
       "      <td>Toys</td>\n",
       "      <td>674408.7</td>\n",
       "      <td>964237.5</td>\n",
       "    </tr>\n",
       "    <tr>\n",
       "      <th>11</th>\n",
       "      <td>Regular</td>\n",
       "      <td>Fashion</td>\n",
       "      <td>604153.0</td>\n",
       "      <td>918906.8</td>\n",
       "    </tr>\n",
       "    <tr>\n",
       "      <th>12</th>\n",
       "      <td>Regular</td>\n",
       "      <td>Home Decor</td>\n",
       "      <td>603695.0</td>\n",
       "      <td>909714.3</td>\n",
       "    </tr>\n",
       "    <tr>\n",
       "      <th>8</th>\n",
       "      <td>Premium</td>\n",
       "      <td>Sports</td>\n",
       "      <td>776082.8</td>\n",
       "      <td>1095368.5</td>\n",
       "    </tr>\n",
       "    <tr>\n",
       "      <th>9</th>\n",
       "      <td>Premium</td>\n",
       "      <td>Toys</td>\n",
       "      <td>674323.5</td>\n",
       "      <td>1001611.3</td>\n",
       "    </tr>\n",
       "    <tr>\n",
       "      <th>6</th>\n",
       "      <td>Premium</td>\n",
       "      <td>Fashion</td>\n",
       "      <td>623250.2</td>\n",
       "      <td>915435.7</td>\n",
       "    </tr>\n",
       "    <tr>\n",
       "      <th>5</th>\n",
       "      <td>Premium</td>\n",
       "      <td>Electronics</td>\n",
       "      <td>551413.3</td>\n",
       "      <td>864126.4</td>\n",
       "    </tr>\n",
       "    <tr>\n",
       "      <th>7</th>\n",
       "      <td>Premium</td>\n",
       "      <td>Home Decor</td>\n",
       "      <td>491755.4</td>\n",
       "      <td>777283.2</td>\n",
       "    </tr>\n",
       "    <tr>\n",
       "      <th>1</th>\n",
       "      <td>Occasional</td>\n",
       "      <td>Fashion</td>\n",
       "      <td>819737.9</td>\n",
       "      <td>1133753.5</td>\n",
       "    </tr>\n",
       "    <tr>\n",
       "      <th>2</th>\n",
       "      <td>Occasional</td>\n",
       "      <td>Home Decor</td>\n",
       "      <td>745624.9</td>\n",
       "      <td>1092803.7</td>\n",
       "    </tr>\n",
       "    <tr>\n",
       "      <th>3</th>\n",
       "      <td>Occasional</td>\n",
       "      <td>Sports</td>\n",
       "      <td>738545.9</td>\n",
       "      <td>1004006.5</td>\n",
       "    </tr>\n",
       "    <tr>\n",
       "      <th>4</th>\n",
       "      <td>Occasional</td>\n",
       "      <td>Toys</td>\n",
       "      <td>671226.7</td>\n",
       "      <td>1064658.2</td>\n",
       "    </tr>\n",
       "    <tr>\n",
       "      <th>0</th>\n",
       "      <td>Occasional</td>\n",
       "      <td>Electronics</td>\n",
       "      <td>621776.9</td>\n",
       "      <td>956794.8</td>\n",
       "    </tr>\n",
       "  </tbody>\n",
       "</table>\n",
       "</div>"
      ],
      "text/plain": [
       "   Customer_Segment Product_Category    Profit  Discounted_Revenue\n",
       "10          Regular      Electronics  784830.5           1201453.3\n",
       "13          Regular           Sports  708451.7           1101953.3\n",
       "14          Regular             Toys  674408.7            964237.5\n",
       "11          Regular          Fashion  604153.0            918906.8\n",
       "12          Regular       Home Decor  603695.0            909714.3\n",
       "8           Premium           Sports  776082.8           1095368.5\n",
       "9           Premium             Toys  674323.5           1001611.3\n",
       "6           Premium          Fashion  623250.2            915435.7\n",
       "5           Premium      Electronics  551413.3            864126.4\n",
       "7           Premium       Home Decor  491755.4            777283.2\n",
       "1        Occasional          Fashion  819737.9           1133753.5\n",
       "2        Occasional       Home Decor  745624.9           1092803.7\n",
       "3        Occasional           Sports  738545.9           1004006.5\n",
       "4        Occasional             Toys  671226.7           1064658.2\n",
       "0        Occasional      Electronics  621776.9            956794.8"
      ]
     },
     "execution_count": 156,
     "metadata": {},
     "output_type": "execute_result"
    }
   ],
   "source": [
    "Dis_Rev_Profit_per_Customer_Segment_Product_Category = Data.groupby(['Customer_Segment','Product_Category'])[['Profit','Discounted_Revenue']].sum().reset_index()\n",
    "Dis_Rev_Profit_per_Customer_Segment_Product_Category.sort_values(by=['Customer_Segment', 'Profit'], ascending=False)"
   ]
  },
  {
   "cell_type": "markdown",
   "id": "7d97d6ee-cb6a-4794-aec7-7cbf4fabd0ba",
   "metadata": {},
   "source": [
    "## iv) Pricing and Discount Analysis"
   ]
  },
  {
   "cell_type": "markdown",
   "id": "742a7c3e-0764-4461-a3cf-a6463d8676b8",
   "metadata": {},
   "source": [
    "## v) Profitability Analysis"
   ]
  },
  {
   "cell_type": "markdown",
   "id": "0465c97b-5d96-4cb6-911a-c4a7adb47c6e",
   "metadata": {},
   "source": [
    "### 2) Dispertion"
   ]
  },
  {
   "cell_type": "markdown",
   "id": "8b4b6e59-d835-4643-bfe1-e8289944204f",
   "metadata": {},
   "source": [
    "### 3) Concentration"
   ]
  },
  {
   "cell_type": "markdown",
   "id": "4d3790c4-ad71-47ec-aae5-89bbd600ea7d",
   "metadata": {},
   "source": [
    "## ii) Sales prediction"
   ]
  }
 ],
 "metadata": {
  "kernelspec": {
   "display_name": "Python 3 (ipykernel)",
   "language": "python",
   "name": "python3"
  },
  "language_info": {
   "codemirror_mode": {
    "name": "ipython",
    "version": 3
   },
   "file_extension": ".py",
   "mimetype": "text/x-python",
   "name": "python",
   "nbconvert_exporter": "python",
   "pygments_lexer": "ipython3",
   "version": "3.12.4"
  }
 },
 "nbformat": 4,
 "nbformat_minor": 5
}
