{
 "cells": [
  {
   "cell_type": "markdown",
   "id": "346dcaa0-97d1-4a6c-86fb-92d9329c675d",
   "metadata": {
    "jp-MarkdownHeadingCollapsed": true
   },
   "source": [
    "# I) Data collection"
   ]
  },
  {
   "cell_type": "markdown",
   "id": "6aedd116-0ec1-41b9-afa2-11437d094566",
   "metadata": {
    "jp-MarkdownHeadingCollapsed": true
   },
   "source": [
    "## i) Importing Necessary Python Libraries "
   ]
  },
  {
   "cell_type": "code",
   "execution_count": 115,
   "id": "dd5c37be-4a93-45b6-ad9b-07355b6bfb28",
   "metadata": {},
   "outputs": [],
   "source": [
    "import pandas as pd\n",
    "import numpy as np \n",
    "import matplotlib.pyplot as plt\n",
    "import seaborn as sns\n"
   ]
  },
  {
   "cell_type": "markdown",
   "id": "1cda33b7-e3d5-49c5-ad19-8e561fa2db53",
   "metadata": {
    "jp-MarkdownHeadingCollapsed": true
   },
   "source": [
    "## ii) Importing Data"
   ]
  },
  {
   "cell_type": "code",
   "execution_count": 116,
   "id": "b656da02-92f5-4ecc-b378-c8ca3588ddd1",
   "metadata": {},
   "outputs": [
    {
     "data": {
      "text/html": [
       "<div>\n",
       "<style scoped>\n",
       "    .dataframe tbody tr th:only-of-type {\n",
       "        vertical-align: middle;\n",
       "    }\n",
       "\n",
       "    .dataframe tbody tr th {\n",
       "        vertical-align: top;\n",
       "    }\n",
       "\n",
       "    .dataframe thead th {\n",
       "        text-align: right;\n",
       "    }\n",
       "</style>\n",
       "<table border=\"1\" class=\"dataframe\">\n",
       "  <thead>\n",
       "    <tr style=\"text-align: right;\">\n",
       "      <th></th>\n",
       "      <th>Date</th>\n",
       "      <th>Product_Category</th>\n",
       "      <th>Price</th>\n",
       "      <th>Discount</th>\n",
       "      <th>Customer_Segment</th>\n",
       "      <th>Marketing_Spend</th>\n",
       "      <th>Units_Sold</th>\n",
       "    </tr>\n",
       "  </thead>\n",
       "  <tbody>\n",
       "    <tr>\n",
       "      <th>0</th>\n",
       "      <td>2023-01-01 00:00:00</td>\n",
       "      <td>Sports</td>\n",
       "      <td>932.80</td>\n",
       "      <td>35.82</td>\n",
       "      <td>Occasional</td>\n",
       "      <td>6780.38</td>\n",
       "      <td>32</td>\n",
       "    </tr>\n",
       "    <tr>\n",
       "      <th>1</th>\n",
       "      <td>2023-02-01 00:00:00</td>\n",
       "      <td>Toys</td>\n",
       "      <td>569.48</td>\n",
       "      <td>3.60</td>\n",
       "      <td>Premium</td>\n",
       "      <td>6807.56</td>\n",
       "      <td>16</td>\n",
       "    </tr>\n",
       "    <tr>\n",
       "      <th>2</th>\n",
       "      <td>2023-03-01 00:00:00</td>\n",
       "      <td>Home Decor</td>\n",
       "      <td>699.68</td>\n",
       "      <td>3.56</td>\n",
       "      <td>Premium</td>\n",
       "      <td>3793.91</td>\n",
       "      <td>27</td>\n",
       "    </tr>\n",
       "    <tr>\n",
       "      <th>3</th>\n",
       "      <td>2023-04-01 00:00:00</td>\n",
       "      <td>Toys</td>\n",
       "      <td>923.27</td>\n",
       "      <td>0.61</td>\n",
       "      <td>Premium</td>\n",
       "      <td>9422.75</td>\n",
       "      <td>29</td>\n",
       "    </tr>\n",
       "    <tr>\n",
       "      <th>4</th>\n",
       "      <td>2023-05-01 00:00:00</td>\n",
       "      <td>Toys</td>\n",
       "      <td>710.17</td>\n",
       "      <td>47.83</td>\n",
       "      <td>Premium</td>\n",
       "      <td>1756.83</td>\n",
       "      <td>17</td>\n",
       "    </tr>\n",
       "    <tr>\n",
       "      <th>...</th>\n",
       "      <td>...</td>\n",
       "      <td>...</td>\n",
       "      <td>...</td>\n",
       "      <td>...</td>\n",
       "      <td>...</td>\n",
       "      <td>...</td>\n",
       "      <td>...</td>\n",
       "    </tr>\n",
       "    <tr>\n",
       "      <th>995</th>\n",
       "      <td>22-09-2025</td>\n",
       "      <td>Fashion</td>\n",
       "      <td>740.06</td>\n",
       "      <td>49.06</td>\n",
       "      <td>Regular</td>\n",
       "      <td>1890.83</td>\n",
       "      <td>34</td>\n",
       "    </tr>\n",
       "    <tr>\n",
       "      <th>996</th>\n",
       "      <td>23-09-2025</td>\n",
       "      <td>Electronics</td>\n",
       "      <td>517.10</td>\n",
       "      <td>28.48</td>\n",
       "      <td>Premium</td>\n",
       "      <td>8011.66</td>\n",
       "      <td>21</td>\n",
       "    </tr>\n",
       "    <tr>\n",
       "      <th>997</th>\n",
       "      <td>24-09-2025</td>\n",
       "      <td>Electronics</td>\n",
       "      <td>683.43</td>\n",
       "      <td>12.98</td>\n",
       "      <td>Occasional</td>\n",
       "      <td>3408.51</td>\n",
       "      <td>19</td>\n",
       "    </tr>\n",
       "    <tr>\n",
       "      <th>998</th>\n",
       "      <td>25-09-2025</td>\n",
       "      <td>Sports</td>\n",
       "      <td>51.26</td>\n",
       "      <td>21.85</td>\n",
       "      <td>Occasional</td>\n",
       "      <td>7335.62</td>\n",
       "      <td>26</td>\n",
       "    </tr>\n",
       "    <tr>\n",
       "      <th>999</th>\n",
       "      <td>26-09-2025</td>\n",
       "      <td>Home Decor</td>\n",
       "      <td>93.94</td>\n",
       "      <td>29.68</td>\n",
       "      <td>Regular</td>\n",
       "      <td>4258.11</td>\n",
       "      <td>39</td>\n",
       "    </tr>\n",
       "  </tbody>\n",
       "</table>\n",
       "<p>1000 rows × 7 columns</p>\n",
       "</div>"
      ],
      "text/plain": [
       "                    Date Product_Category   Price  Discount Customer_Segment  \\\n",
       "0    2023-01-01 00:00:00           Sports  932.80     35.82       Occasional   \n",
       "1    2023-02-01 00:00:00             Toys  569.48      3.60          Premium   \n",
       "2    2023-03-01 00:00:00       Home Decor  699.68      3.56          Premium   \n",
       "3    2023-04-01 00:00:00             Toys  923.27      0.61          Premium   \n",
       "4    2023-05-01 00:00:00             Toys  710.17     47.83          Premium   \n",
       "..                   ...              ...     ...       ...              ...   \n",
       "995           22-09-2025          Fashion  740.06     49.06          Regular   \n",
       "996           23-09-2025      Electronics  517.10     28.48          Premium   \n",
       "997           24-09-2025      Electronics  683.43     12.98       Occasional   \n",
       "998           25-09-2025           Sports   51.26     21.85       Occasional   \n",
       "999           26-09-2025       Home Decor   93.94     29.68          Regular   \n",
       "\n",
       "     Marketing_Spend  Units_Sold  \n",
       "0            6780.38          32  \n",
       "1            6807.56          16  \n",
       "2            3793.91          27  \n",
       "3            9422.75          29  \n",
       "4            1756.83          17  \n",
       "..               ...         ...  \n",
       "995          1890.83          34  \n",
       "996          8011.66          21  \n",
       "997          3408.51          19  \n",
       "998          7335.62          26  \n",
       "999          4258.11          39  \n",
       "\n",
       "[1000 rows x 7 columns]"
      ]
     },
     "execution_count": 116,
     "metadata": {},
     "output_type": "execute_result"
    }
   ],
   "source": [
    "Data = pd.read_excel('Ecommerce_Sales_Prediction_Dataset.xlsx')\n",
    "Data"
   ]
  },
  {
   "cell_type": "markdown",
   "id": "4362e7e9-3047-4c75-82b5-53e66ed9a9bc",
   "metadata": {
    "jp-MarkdownHeadingCollapsed": true
   },
   "source": [
    "# II- Data Cleaning"
   ]
  },
  {
   "cell_type": "markdown",
   "id": "f0fb2deb-626a-44b8-a89a-f748d1be3a84",
   "metadata": {
    "jp-MarkdownHeadingCollapsed": true
   },
   "source": [
    "## i) Check Missing Values"
   ]
  },
  {
   "cell_type": "code",
   "execution_count": 117,
   "id": "152ebfc5-374d-42fb-9de1-8f7b06b2ef5d",
   "metadata": {},
   "outputs": [
    {
     "data": {
      "text/plain": [
       "Date                0\n",
       "Product_Category    0\n",
       "Price               0\n",
       "Discount            0\n",
       "Customer_Segment    0\n",
       "Marketing_Spend     0\n",
       "Units_Sold          0\n",
       "dtype: int64"
      ]
     },
     "execution_count": 117,
     "metadata": {},
     "output_type": "execute_result"
    }
   ],
   "source": [
    "missing_values = Data.isnull().sum()\n",
    "missing_values"
   ]
  },
  {
   "cell_type": "markdown",
   "id": "6d989a40-8d13-49a9-9d7e-05206bc7ea9d",
   "metadata": {},
   "source": [
    "*==> There is no missing value*"
   ]
  },
  {
   "cell_type": "markdown",
   "id": "e8ef5323-5966-4ed0-8177-9f60c9ea0658",
   "metadata": {
    "jp-MarkdownHeadingCollapsed": true
   },
   "source": [
    "## ii) Duplicated Data"
   ]
  },
  {
   "cell_type": "code",
   "execution_count": 118,
   "id": "85f9cc08-40b7-406b-8a42-f72aba0c77ab",
   "metadata": {},
   "outputs": [
    {
     "data": {
      "text/plain": [
       "0"
      ]
     },
     "execution_count": 118,
     "metadata": {},
     "output_type": "execute_result"
    }
   ],
   "source": [
    "Dup_Data= Data.duplicated().sum()\n",
    "Dup_Data"
   ]
  },
  {
   "cell_type": "markdown",
   "id": "bf8a0778-56df-40d4-8851-2cc1f9ef99f1",
   "metadata": {},
   "source": [
    "*==> There is no Duplicated Data*"
   ]
  },
  {
   "cell_type": "markdown",
   "id": "9b31cbc0-ed54-4e62-8660-9a0d6a0f01c6",
   "metadata": {
    "jp-MarkdownHeadingCollapsed": true
   },
   "source": [
    "## iii) Data Types"
   ]
  },
  {
   "cell_type": "markdown",
   "id": "9acdaea6-e6b2-4d2b-abc9-909e3e8b3cf6",
   "metadata": {},
   "source": [
    "* Data types Detection"
   ]
  },
  {
   "cell_type": "code",
   "execution_count": 119,
   "id": "1a0be018-d57e-426b-b6a7-ef67c221c95a",
   "metadata": {},
   "outputs": [
    {
     "data": {
      "text/plain": [
       "Date                 object\n",
       "Product_Category     object\n",
       "Price               float64\n",
       "Discount            float64\n",
       "Customer_Segment     object\n",
       "Marketing_Spend     float64\n",
       "Units_Sold            int64\n",
       "dtype: object"
      ]
     },
     "execution_count": 119,
     "metadata": {},
     "output_type": "execute_result"
    }
   ],
   "source": [
    "Types_Data = Data.dtypes\n",
    "Types_Data"
   ]
  },
  {
   "cell_type": "markdown",
   "id": "6088054f-a630-4168-8016-5585c7c2ad66",
   "metadata": {},
   "source": [
    "*==> The 'date' variable should be of the date data type*"
   ]
  },
  {
   "cell_type": "markdown",
   "id": "391c318d-10e3-4f65-ab45-2cc9f566ec53",
   "metadata": {},
   "source": [
    "* Data types Modification"
   ]
  },
  {
   "cell_type": "code",
   "execution_count": 120,
   "id": "c5f1eb9b-f555-48e2-bb78-1e276628ffd2",
   "metadata": {},
   "outputs": [
    {
     "data": {
      "text/plain": [
       "Date                datetime64[ns]\n",
       "Product_Category            object\n",
       "Price                      float64\n",
       "Discount                   float64\n",
       "Customer_Segment            object\n",
       "Marketing_Spend            float64\n",
       "Units_Sold                   int64\n",
       "dtype: object"
      ]
     },
     "execution_count": 120,
     "metadata": {},
     "output_type": "execute_result"
    }
   ],
   "source": [
    "Data['Date'] = pd.to_datetime(Data['Date'], errors='coerce')\n",
    "Data.dtypes"
   ]
  },
  {
   "cell_type": "markdown",
   "id": "5e1d5ec0-9c24-43a1-a357-a8c33ebaad2d",
   "metadata": {},
   "source": [
    "# III) Data Analysis"
   ]
  },
  {
   "cell_type": "markdown",
   "id": "01d11094-10fc-4dff-a5f8-bf98b6d240f2",
   "metadata": {},
   "source": [
    "## i) Sales and Revenue Analysis"
   ]
  },
  {
   "cell_type": "markdown",
   "id": "e434caa5-fc50-4aa8-824e-4280891db1e3",
   "metadata": {
    "jp-MarkdownHeadingCollapsed": true
   },
   "source": [
    "### 1) Units Sold"
   ]
  },
  {
   "cell_type": "code",
   "execution_count": 121,
   "id": "950996bc-dc92-42c9-aeaa-00890cbcf704",
   "metadata": {},
   "outputs": [
    {
     "data": {
      "text/html": [
       "<div>\n",
       "<style scoped>\n",
       "    .dataframe tbody tr th:only-of-type {\n",
       "        vertical-align: middle;\n",
       "    }\n",
       "\n",
       "    .dataframe tbody tr th {\n",
       "        vertical-align: top;\n",
       "    }\n",
       "\n",
       "    .dataframe thead th {\n",
       "        text-align: right;\n",
       "    }\n",
       "</style>\n",
       "<table border=\"1\" class=\"dataframe\">\n",
       "  <thead>\n",
       "    <tr style=\"text-align: right;\">\n",
       "      <th></th>\n",
       "      <th>Customer_Segment</th>\n",
       "      <th>Units_Sold</th>\n",
       "    </tr>\n",
       "  </thead>\n",
       "  <tbody>\n",
       "    <tr>\n",
       "      <th>2</th>\n",
       "      <td>Regular</td>\n",
       "      <td>10222</td>\n",
       "    </tr>\n",
       "    <tr>\n",
       "      <th>0</th>\n",
       "      <td>Occasional</td>\n",
       "      <td>9842</td>\n",
       "    </tr>\n",
       "    <tr>\n",
       "      <th>1</th>\n",
       "      <td>Premium</td>\n",
       "      <td>9567</td>\n",
       "    </tr>\n",
       "  </tbody>\n",
       "</table>\n",
       "</div>"
      ],
      "text/plain": [
       "  Customer_Segment  Units_Sold\n",
       "2          Regular       10222\n",
       "0       Occasional        9842\n",
       "1          Premium        9567"
      ]
     },
     "execution_count": 121,
     "metadata": {},
     "output_type": "execute_result"
    }
   ],
   "source": [
    "Units_Sold_per_Customer_Segment = Data.groupby('Customer_Segment')['Units_Sold'].sum().reset_index()\n",
    "Units_Sold_per_Customer_Segment.sort_values(by=['Units_Sold'], ascending=False)"
   ]
  },
  {
   "cell_type": "code",
   "execution_count": 122,
   "id": "cf7d2e52-6308-4097-9ff1-c27b047769a4",
   "metadata": {},
   "outputs": [
    {
     "data": {
      "text/html": [
       "<div>\n",
       "<style scoped>\n",
       "    .dataframe tbody tr th:only-of-type {\n",
       "        vertical-align: middle;\n",
       "    }\n",
       "\n",
       "    .dataframe tbody tr th {\n",
       "        vertical-align: top;\n",
       "    }\n",
       "\n",
       "    .dataframe thead th {\n",
       "        text-align: right;\n",
       "    }\n",
       "</style>\n",
       "<table border=\"1\" class=\"dataframe\">\n",
       "  <thead>\n",
       "    <tr style=\"text-align: right;\">\n",
       "      <th></th>\n",
       "      <th>Product_Category</th>\n",
       "      <th>Units_Sold</th>\n",
       "    </tr>\n",
       "  </thead>\n",
       "  <tbody>\n",
       "    <tr>\n",
       "      <th>0</th>\n",
       "      <td>Electronics</td>\n",
       "      <td>6210</td>\n",
       "    </tr>\n",
       "    <tr>\n",
       "      <th>3</th>\n",
       "      <td>Sports</td>\n",
       "      <td>6125</td>\n",
       "    </tr>\n",
       "    <tr>\n",
       "      <th>4</th>\n",
       "      <td>Toys</td>\n",
       "      <td>6003</td>\n",
       "    </tr>\n",
       "    <tr>\n",
       "      <th>1</th>\n",
       "      <td>Fashion</td>\n",
       "      <td>5650</td>\n",
       "    </tr>\n",
       "    <tr>\n",
       "      <th>2</th>\n",
       "      <td>Home Decor</td>\n",
       "      <td>5643</td>\n",
       "    </tr>\n",
       "  </tbody>\n",
       "</table>\n",
       "</div>"
      ],
      "text/plain": [
       "  Product_Category  Units_Sold\n",
       "0      Electronics        6210\n",
       "3           Sports        6125\n",
       "4             Toys        6003\n",
       "1          Fashion        5650\n",
       "2       Home Decor        5643"
      ]
     },
     "execution_count": 122,
     "metadata": {},
     "output_type": "execute_result"
    }
   ],
   "source": [
    "Units_Sold_per_Product_Category = Data.groupby('Product_Category')['Units_Sold'].sum().reset_index()\n",
    "Units_Sold_per_Product_Category.sort_values(by=['Units_Sold'], ascending=False)"
   ]
  },
  {
   "cell_type": "markdown",
   "id": "1446c280-e150-4141-9caf-df796f243106",
   "metadata": {},
   "source": [
    "#### Total Units Sold is :"
   ]
  },
  {
   "cell_type": "code",
   "execution_count": 123,
   "id": "29808a10-69f5-4bcc-a0c1-1198adab2df6",
   "metadata": {},
   "outputs": [
    {
     "data": {
      "text/plain": [
       "29631"
      ]
     },
     "execution_count": 123,
     "metadata": {},
     "output_type": "execute_result"
    }
   ],
   "source": [
    "Total_Units_Sold= Data['Units_Sold'].sum()\n",
    "Total_Units_Sold"
   ]
  },
  {
   "cell_type": "markdown",
   "id": "f2060dde-d4d4-41a1-aa6e-b4a14ac976e0",
   "metadata": {
    "jp-MarkdownHeadingCollapsed": true
   },
   "source": [
    "### 2) Revenue"
   ]
  },
  {
   "cell_type": "code",
   "execution_count": 124,
   "id": "b673976e-0fa0-48bb-87d4-222b2b2bbc05",
   "metadata": {},
   "outputs": [
    {
     "data": {
      "text/html": [
       "<div>\n",
       "<style scoped>\n",
       "    .dataframe tbody tr th:only-of-type {\n",
       "        vertical-align: middle;\n",
       "    }\n",
       "\n",
       "    .dataframe tbody tr th {\n",
       "        vertical-align: top;\n",
       "    }\n",
       "\n",
       "    .dataframe thead th {\n",
       "        text-align: right;\n",
       "    }\n",
       "</style>\n",
       "<table border=\"1\" class=\"dataframe\">\n",
       "  <thead>\n",
       "    <tr style=\"text-align: right;\">\n",
       "      <th></th>\n",
       "      <th>Date</th>\n",
       "      <th>Product_Category</th>\n",
       "      <th>Price</th>\n",
       "      <th>Discount</th>\n",
       "      <th>Customer_Segment</th>\n",
       "      <th>Marketing_Spend</th>\n",
       "      <th>Units_Sold</th>\n",
       "      <th>Revenue</th>\n",
       "    </tr>\n",
       "  </thead>\n",
       "  <tbody>\n",
       "    <tr>\n",
       "      <th>0</th>\n",
       "      <td>2023-01-01</td>\n",
       "      <td>Sports</td>\n",
       "      <td>932.80</td>\n",
       "      <td>35.82</td>\n",
       "      <td>Occasional</td>\n",
       "      <td>6780.38</td>\n",
       "      <td>32</td>\n",
       "      <td>29849.60</td>\n",
       "    </tr>\n",
       "    <tr>\n",
       "      <th>1</th>\n",
       "      <td>2023-02-01</td>\n",
       "      <td>Toys</td>\n",
       "      <td>569.48</td>\n",
       "      <td>3.60</td>\n",
       "      <td>Premium</td>\n",
       "      <td>6807.56</td>\n",
       "      <td>16</td>\n",
       "      <td>9111.68</td>\n",
       "    </tr>\n",
       "    <tr>\n",
       "      <th>2</th>\n",
       "      <td>2023-03-01</td>\n",
       "      <td>Home Decor</td>\n",
       "      <td>699.68</td>\n",
       "      <td>3.56</td>\n",
       "      <td>Premium</td>\n",
       "      <td>3793.91</td>\n",
       "      <td>27</td>\n",
       "      <td>18891.36</td>\n",
       "    </tr>\n",
       "    <tr>\n",
       "      <th>3</th>\n",
       "      <td>2023-04-01</td>\n",
       "      <td>Toys</td>\n",
       "      <td>923.27</td>\n",
       "      <td>0.61</td>\n",
       "      <td>Premium</td>\n",
       "      <td>9422.75</td>\n",
       "      <td>29</td>\n",
       "      <td>26774.83</td>\n",
       "    </tr>\n",
       "    <tr>\n",
       "      <th>4</th>\n",
       "      <td>2023-05-01</td>\n",
       "      <td>Toys</td>\n",
       "      <td>710.17</td>\n",
       "      <td>47.83</td>\n",
       "      <td>Premium</td>\n",
       "      <td>1756.83</td>\n",
       "      <td>17</td>\n",
       "      <td>12072.89</td>\n",
       "    </tr>\n",
       "    <tr>\n",
       "      <th>...</th>\n",
       "      <td>...</td>\n",
       "      <td>...</td>\n",
       "      <td>...</td>\n",
       "      <td>...</td>\n",
       "      <td>...</td>\n",
       "      <td>...</td>\n",
       "      <td>...</td>\n",
       "      <td>...</td>\n",
       "    </tr>\n",
       "    <tr>\n",
       "      <th>995</th>\n",
       "      <td>2025-09-22</td>\n",
       "      <td>Fashion</td>\n",
       "      <td>740.06</td>\n",
       "      <td>49.06</td>\n",
       "      <td>Regular</td>\n",
       "      <td>1890.83</td>\n",
       "      <td>34</td>\n",
       "      <td>25162.04</td>\n",
       "    </tr>\n",
       "    <tr>\n",
       "      <th>996</th>\n",
       "      <td>2025-09-23</td>\n",
       "      <td>Electronics</td>\n",
       "      <td>517.10</td>\n",
       "      <td>28.48</td>\n",
       "      <td>Premium</td>\n",
       "      <td>8011.66</td>\n",
       "      <td>21</td>\n",
       "      <td>10859.10</td>\n",
       "    </tr>\n",
       "    <tr>\n",
       "      <th>997</th>\n",
       "      <td>2025-09-24</td>\n",
       "      <td>Electronics</td>\n",
       "      <td>683.43</td>\n",
       "      <td>12.98</td>\n",
       "      <td>Occasional</td>\n",
       "      <td>3408.51</td>\n",
       "      <td>19</td>\n",
       "      <td>12985.17</td>\n",
       "    </tr>\n",
       "    <tr>\n",
       "      <th>998</th>\n",
       "      <td>2025-09-25</td>\n",
       "      <td>Sports</td>\n",
       "      <td>51.26</td>\n",
       "      <td>21.85</td>\n",
       "      <td>Occasional</td>\n",
       "      <td>7335.62</td>\n",
       "      <td>26</td>\n",
       "      <td>1332.76</td>\n",
       "    </tr>\n",
       "    <tr>\n",
       "      <th>999</th>\n",
       "      <td>2025-09-26</td>\n",
       "      <td>Home Decor</td>\n",
       "      <td>93.94</td>\n",
       "      <td>29.68</td>\n",
       "      <td>Regular</td>\n",
       "      <td>4258.11</td>\n",
       "      <td>39</td>\n",
       "      <td>3663.66</td>\n",
       "    </tr>\n",
       "  </tbody>\n",
       "</table>\n",
       "<p>1000 rows × 8 columns</p>\n",
       "</div>"
      ],
      "text/plain": [
       "          Date Product_Category   Price  Discount Customer_Segment  \\\n",
       "0   2023-01-01           Sports  932.80     35.82       Occasional   \n",
       "1   2023-02-01             Toys  569.48      3.60          Premium   \n",
       "2   2023-03-01       Home Decor  699.68      3.56          Premium   \n",
       "3   2023-04-01             Toys  923.27      0.61          Premium   \n",
       "4   2023-05-01             Toys  710.17     47.83          Premium   \n",
       "..         ...              ...     ...       ...              ...   \n",
       "995 2025-09-22          Fashion  740.06     49.06          Regular   \n",
       "996 2025-09-23      Electronics  517.10     28.48          Premium   \n",
       "997 2025-09-24      Electronics  683.43     12.98       Occasional   \n",
       "998 2025-09-25           Sports   51.26     21.85       Occasional   \n",
       "999 2025-09-26       Home Decor   93.94     29.68          Regular   \n",
       "\n",
       "     Marketing_Spend  Units_Sold   Revenue  \n",
       "0            6780.38          32  29849.60  \n",
       "1            6807.56          16   9111.68  \n",
       "2            3793.91          27  18891.36  \n",
       "3            9422.75          29  26774.83  \n",
       "4            1756.83          17  12072.89  \n",
       "..               ...         ...       ...  \n",
       "995          1890.83          34  25162.04  \n",
       "996          8011.66          21  10859.10  \n",
       "997          3408.51          19  12985.17  \n",
       "998          7335.62          26   1332.76  \n",
       "999          4258.11          39   3663.66  \n",
       "\n",
       "[1000 rows x 8 columns]"
      ]
     },
     "execution_count": 124,
     "metadata": {},
     "output_type": "execute_result"
    }
   ],
   "source": [
    "Data['Revenue']= Data.Price * Data.Units_Sold\n",
    "Data"
   ]
  },
  {
   "cell_type": "markdown",
   "id": "0128f56b-73f6-4eed-8622-de82deacb489",
   "metadata": {},
   "source": [
    "#### Total Revenue is :  "
   ]
  },
  {
   "cell_type": "code",
   "execution_count": 125,
   "id": "728e5951-706b-4d44-b8a0-ab825e1a03ef",
   "metadata": {},
   "outputs": [
    {
     "data": {
      "text/plain": [
       "15002484.56"
      ]
     },
     "execution_count": 125,
     "metadata": {},
     "output_type": "execute_result"
    }
   ],
   "source": [
    "Revenue = Data['Revenue'].sum()\n",
    "Revenue"
   ]
  },
  {
   "cell_type": "markdown",
   "id": "5749596f-09a4-4660-9b2d-0ce2351e7cb8",
   "metadata": {},
   "source": [
    "### 3) Discounted Revenu"
   ]
  },
  {
   "cell_type": "code",
   "execution_count": 126,
   "id": "850c6695-b8af-4b73-a3a2-eede368ded0c",
   "metadata": {
    "scrolled": true
   },
   "outputs": [
    {
     "data": {
      "text/html": [
       "<div>\n",
       "<style scoped>\n",
       "    .dataframe tbody tr th:only-of-type {\n",
       "        vertical-align: middle;\n",
       "    }\n",
       "\n",
       "    .dataframe tbody tr th {\n",
       "        vertical-align: top;\n",
       "    }\n",
       "\n",
       "    .dataframe thead th {\n",
       "        text-align: right;\n",
       "    }\n",
       "</style>\n",
       "<table border=\"1\" class=\"dataframe\">\n",
       "  <thead>\n",
       "    <tr style=\"text-align: right;\">\n",
       "      <th></th>\n",
       "      <th>Date</th>\n",
       "      <th>Product_Category</th>\n",
       "      <th>Price</th>\n",
       "      <th>Discount</th>\n",
       "      <th>Customer_Segment</th>\n",
       "      <th>Marketing_Spend</th>\n",
       "      <th>Units_Sold</th>\n",
       "      <th>Revenue</th>\n",
       "      <th>Discounted_Revenue</th>\n",
       "      <th>Profit</th>\n",
       "    </tr>\n",
       "  </thead>\n",
       "  <tbody>\n",
       "    <tr>\n",
       "      <th>0</th>\n",
       "      <td>2023-01-01</td>\n",
       "      <td>Sports</td>\n",
       "      <td>932.80</td>\n",
       "      <td>0.3582</td>\n",
       "      <td>Occasional</td>\n",
       "      <td>6780.38</td>\n",
       "      <td>32</td>\n",
       "      <td>29849.60</td>\n",
       "      <td>19157.5</td>\n",
       "      <td>12377.1</td>\n",
       "    </tr>\n",
       "    <tr>\n",
       "      <th>1</th>\n",
       "      <td>2023-02-01</td>\n",
       "      <td>Toys</td>\n",
       "      <td>569.48</td>\n",
       "      <td>0.0360</td>\n",
       "      <td>Premium</td>\n",
       "      <td>6807.56</td>\n",
       "      <td>16</td>\n",
       "      <td>9111.68</td>\n",
       "      <td>8783.7</td>\n",
       "      <td>1976.1</td>\n",
       "    </tr>\n",
       "    <tr>\n",
       "      <th>2</th>\n",
       "      <td>2023-03-01</td>\n",
       "      <td>Home Decor</td>\n",
       "      <td>699.68</td>\n",
       "      <td>0.0356</td>\n",
       "      <td>Premium</td>\n",
       "      <td>3793.91</td>\n",
       "      <td>27</td>\n",
       "      <td>18891.36</td>\n",
       "      <td>18218.8</td>\n",
       "      <td>14424.9</td>\n",
       "    </tr>\n",
       "    <tr>\n",
       "      <th>3</th>\n",
       "      <td>2023-04-01</td>\n",
       "      <td>Toys</td>\n",
       "      <td>923.27</td>\n",
       "      <td>0.0061</td>\n",
       "      <td>Premium</td>\n",
       "      <td>9422.75</td>\n",
       "      <td>29</td>\n",
       "      <td>26774.83</td>\n",
       "      <td>26611.5</td>\n",
       "      <td>17188.8</td>\n",
       "    </tr>\n",
       "    <tr>\n",
       "      <th>4</th>\n",
       "      <td>2023-05-01</td>\n",
       "      <td>Toys</td>\n",
       "      <td>710.17</td>\n",
       "      <td>0.4783</td>\n",
       "      <td>Premium</td>\n",
       "      <td>1756.83</td>\n",
       "      <td>17</td>\n",
       "      <td>12072.89</td>\n",
       "      <td>6298.4</td>\n",
       "      <td>4541.6</td>\n",
       "    </tr>\n",
       "    <tr>\n",
       "      <th>...</th>\n",
       "      <td>...</td>\n",
       "      <td>...</td>\n",
       "      <td>...</td>\n",
       "      <td>...</td>\n",
       "      <td>...</td>\n",
       "      <td>...</td>\n",
       "      <td>...</td>\n",
       "      <td>...</td>\n",
       "      <td>...</td>\n",
       "      <td>...</td>\n",
       "    </tr>\n",
       "    <tr>\n",
       "      <th>995</th>\n",
       "      <td>2025-09-22</td>\n",
       "      <td>Fashion</td>\n",
       "      <td>740.06</td>\n",
       "      <td>0.4906</td>\n",
       "      <td>Regular</td>\n",
       "      <td>1890.83</td>\n",
       "      <td>34</td>\n",
       "      <td>25162.04</td>\n",
       "      <td>12817.5</td>\n",
       "      <td>10926.7</td>\n",
       "    </tr>\n",
       "    <tr>\n",
       "      <th>996</th>\n",
       "      <td>2025-09-23</td>\n",
       "      <td>Electronics</td>\n",
       "      <td>517.10</td>\n",
       "      <td>0.2848</td>\n",
       "      <td>Premium</td>\n",
       "      <td>8011.66</td>\n",
       "      <td>21</td>\n",
       "      <td>10859.10</td>\n",
       "      <td>7766.4</td>\n",
       "      <td>-245.3</td>\n",
       "    </tr>\n",
       "    <tr>\n",
       "      <th>997</th>\n",
       "      <td>2025-09-24</td>\n",
       "      <td>Electronics</td>\n",
       "      <td>683.43</td>\n",
       "      <td>0.1298</td>\n",
       "      <td>Occasional</td>\n",
       "      <td>3408.51</td>\n",
       "      <td>19</td>\n",
       "      <td>12985.17</td>\n",
       "      <td>11299.7</td>\n",
       "      <td>7891.2</td>\n",
       "    </tr>\n",
       "    <tr>\n",
       "      <th>998</th>\n",
       "      <td>2025-09-25</td>\n",
       "      <td>Sports</td>\n",
       "      <td>51.26</td>\n",
       "      <td>0.2185</td>\n",
       "      <td>Occasional</td>\n",
       "      <td>7335.62</td>\n",
       "      <td>26</td>\n",
       "      <td>1332.76</td>\n",
       "      <td>1041.6</td>\n",
       "      <td>-6294.0</td>\n",
       "    </tr>\n",
       "    <tr>\n",
       "      <th>999</th>\n",
       "      <td>2025-09-26</td>\n",
       "      <td>Home Decor</td>\n",
       "      <td>93.94</td>\n",
       "      <td>0.2968</td>\n",
       "      <td>Regular</td>\n",
       "      <td>4258.11</td>\n",
       "      <td>39</td>\n",
       "      <td>3663.66</td>\n",
       "      <td>2576.3</td>\n",
       "      <td>-1681.8</td>\n",
       "    </tr>\n",
       "  </tbody>\n",
       "</table>\n",
       "<p>1000 rows × 10 columns</p>\n",
       "</div>"
      ],
      "text/plain": [
       "          Date Product_Category   Price  Discount Customer_Segment  \\\n",
       "0   2023-01-01           Sports  932.80    0.3582       Occasional   \n",
       "1   2023-02-01             Toys  569.48    0.0360          Premium   \n",
       "2   2023-03-01       Home Decor  699.68    0.0356          Premium   \n",
       "3   2023-04-01             Toys  923.27    0.0061          Premium   \n",
       "4   2023-05-01             Toys  710.17    0.4783          Premium   \n",
       "..         ...              ...     ...       ...              ...   \n",
       "995 2025-09-22          Fashion  740.06    0.4906          Regular   \n",
       "996 2025-09-23      Electronics  517.10    0.2848          Premium   \n",
       "997 2025-09-24      Electronics  683.43    0.1298       Occasional   \n",
       "998 2025-09-25           Sports   51.26    0.2185       Occasional   \n",
       "999 2025-09-26       Home Decor   93.94    0.2968          Regular   \n",
       "\n",
       "     Marketing_Spend  Units_Sold   Revenue  Discounted_Revenue   Profit  \n",
       "0            6780.38          32  29849.60             19157.5  12377.1  \n",
       "1            6807.56          16   9111.68              8783.7   1976.1  \n",
       "2            3793.91          27  18891.36             18218.8  14424.9  \n",
       "3            9422.75          29  26774.83             26611.5  17188.8  \n",
       "4            1756.83          17  12072.89              6298.4   4541.6  \n",
       "..               ...         ...       ...                 ...      ...  \n",
       "995          1890.83          34  25162.04             12817.5  10926.7  \n",
       "996          8011.66          21  10859.10              7766.4   -245.3  \n",
       "997          3408.51          19  12985.17             11299.7   7891.2  \n",
       "998          7335.62          26   1332.76              1041.6  -6294.0  \n",
       "999          4258.11          39   3663.66              2576.3  -1681.8  \n",
       "\n",
       "[1000 rows x 10 columns]"
      ]
     },
     "execution_count": 126,
     "metadata": {},
     "output_type": "execute_result"
    }
   ],
   "source": [
    "Data['Discount'] = Data['Discount'] / 100\n",
    "Data['Discounted_Revenue']=( Data.Revenue * (1-Data.Discount)).round(1)\n",
    "Data['Profit'] =( Data['Discounted_Revenue'] - Data['Marketing_Spend']).round(1)\n",
    "\n",
    "Data"
   ]
  },
  {
   "cell_type": "markdown",
   "id": "f37413cf-5f28-4e22-a42b-38305f303714",
   "metadata": {},
   "source": [
    "#### 3-1) Total Discounted Revenue:  "
   ]
  },
  {
   "cell_type": "code",
   "execution_count": 127,
   "id": "e9e1bc0b-c537-45fc-b55b-54e2dfdc73ef",
   "metadata": {},
   "outputs": [
    {
     "data": {
      "text/plain": [
       "11238292.6"
      ]
     },
     "execution_count": 127,
     "metadata": {},
     "output_type": "execute_result"
    }
   ],
   "source": [
    "Discounted_Revenue = Data['Discounted_Revenue'].sum().round(1)\n",
    "Discounted_Revenue"
   ]
  },
  {
   "cell_type": "markdown",
   "id": "66810992-43e3-4c2c-938e-4746f5cb07f1",
   "metadata": {},
   "source": [
    "#### 3-2) Discounted_Revenue per Customer Segment"
   ]
  },
  {
   "cell_type": "code",
   "execution_count": 128,
   "id": "54680d66-1c21-493d-af72-8a5df4aa6a4a",
   "metadata": {},
   "outputs": [
    {
     "data": {
      "text/html": [
       "<div>\n",
       "<style scoped>\n",
       "    .dataframe tbody tr th:only-of-type {\n",
       "        vertical-align: middle;\n",
       "    }\n",
       "\n",
       "    .dataframe tbody tr th {\n",
       "        vertical-align: top;\n",
       "    }\n",
       "\n",
       "    .dataframe thead th {\n",
       "        text-align: right;\n",
       "    }\n",
       "</style>\n",
       "<table border=\"1\" class=\"dataframe\">\n",
       "  <thead>\n",
       "    <tr style=\"text-align: right;\">\n",
       "      <th></th>\n",
       "      <th>Customer_Segment</th>\n",
       "      <th>Discounted_Revenue</th>\n",
       "    </tr>\n",
       "  </thead>\n",
       "  <tbody>\n",
       "    <tr>\n",
       "      <th>0</th>\n",
       "      <td>Occasional</td>\n",
       "      <td>3914791.2</td>\n",
       "    </tr>\n",
       "    <tr>\n",
       "      <th>2</th>\n",
       "      <td>Regular</td>\n",
       "      <td>3805949.4</td>\n",
       "    </tr>\n",
       "    <tr>\n",
       "      <th>1</th>\n",
       "      <td>Premium</td>\n",
       "      <td>3517552.0</td>\n",
       "    </tr>\n",
       "  </tbody>\n",
       "</table>\n",
       "</div>"
      ],
      "text/plain": [
       "  Customer_Segment  Discounted_Revenue\n",
       "0       Occasional           3914791.2\n",
       "2          Regular           3805949.4\n",
       "1          Premium           3517552.0"
      ]
     },
     "execution_count": 128,
     "metadata": {},
     "output_type": "execute_result"
    }
   ],
   "source": [
    "Dis_Rev_per_Customer_Segment = Data.groupby('Customer_Segment')['Discounted_Revenue'].sum().reset_index()\n",
    "Dis_Rev_per_Customer_Segment.sort_values(by=['Discounted_Revenue'], ascending=False)"
   ]
  },
  {
   "cell_type": "markdown",
   "id": "c448ab7b-a98e-4c1a-8c26-d34e99b810fe",
   "metadata": {},
   "source": [
    "#### 3-3) Discounted Revenue per Product Category"
   ]
  },
  {
   "cell_type": "code",
   "execution_count": 129,
   "id": "2caaab09-227a-4aa9-ba2d-f5066643065e",
   "metadata": {},
   "outputs": [
    {
     "data": {
      "text/html": [
       "<div>\n",
       "<style scoped>\n",
       "    .dataframe tbody tr th:only-of-type {\n",
       "        vertical-align: middle;\n",
       "    }\n",
       "\n",
       "    .dataframe tbody tr th {\n",
       "        vertical-align: top;\n",
       "    }\n",
       "\n",
       "    .dataframe thead th {\n",
       "        text-align: right;\n",
       "    }\n",
       "</style>\n",
       "<table border=\"1\" class=\"dataframe\">\n",
       "  <thead>\n",
       "    <tr style=\"text-align: right;\">\n",
       "      <th></th>\n",
       "      <th>Product_Category</th>\n",
       "      <th>Discounted_Revenue</th>\n",
       "    </tr>\n",
       "  </thead>\n",
       "  <tbody>\n",
       "    <tr>\n",
       "      <th>3</th>\n",
       "      <td>Sports</td>\n",
       "      <td>2403555.0</td>\n",
       "    </tr>\n",
       "    <tr>\n",
       "      <th>0</th>\n",
       "      <td>Electronics</td>\n",
       "      <td>2265784.7</td>\n",
       "    </tr>\n",
       "    <tr>\n",
       "      <th>2</th>\n",
       "      <td>Home Decor</td>\n",
       "      <td>2192501.2</td>\n",
       "    </tr>\n",
       "    <tr>\n",
       "      <th>1</th>\n",
       "      <td>Fashion</td>\n",
       "      <td>2188679.1</td>\n",
       "    </tr>\n",
       "    <tr>\n",
       "      <th>4</th>\n",
       "      <td>Toys</td>\n",
       "      <td>2187772.6</td>\n",
       "    </tr>\n",
       "  </tbody>\n",
       "</table>\n",
       "</div>"
      ],
      "text/plain": [
       "  Product_Category  Discounted_Revenue\n",
       "3           Sports           2403555.0\n",
       "0      Electronics           2265784.7\n",
       "2       Home Decor           2192501.2\n",
       "1          Fashion           2188679.1\n",
       "4             Toys           2187772.6"
      ]
     },
     "execution_count": 129,
     "metadata": {},
     "output_type": "execute_result"
    }
   ],
   "source": [
    "Dis_Rev_per_Product_Category = Data.groupby('Product_Category')['Discounted_Revenue'].sum().reset_index()\n",
    "Dis_Rev_per_Product_Category.sort_values(by=['Discounted_Revenue'], ascending=False)"
   ]
  },
  {
   "cell_type": "markdown",
   "id": "2199753f-bd06-4ca1-9021-837964cf778a",
   "metadata": {},
   "source": [
    "#### 3-4) Discounted_Revenue per Product Category per Customer Segment"
   ]
  },
  {
   "cell_type": "code",
   "execution_count": 130,
   "id": "919640c7-077b-45ca-add3-75b09fec02e5",
   "metadata": {
    "scrolled": true
   },
   "outputs": [
    {
     "data": {
      "text/html": [
       "<div>\n",
       "<style scoped>\n",
       "    .dataframe tbody tr th:only-of-type {\n",
       "        vertical-align: middle;\n",
       "    }\n",
       "\n",
       "    .dataframe tbody tr th {\n",
       "        vertical-align: top;\n",
       "    }\n",
       "\n",
       "    .dataframe thead th {\n",
       "        text-align: right;\n",
       "    }\n",
       "</style>\n",
       "<table border=\"1\" class=\"dataframe\">\n",
       "  <thead>\n",
       "    <tr style=\"text-align: right;\">\n",
       "      <th></th>\n",
       "      <th>Product_Category</th>\n",
       "      <th>Customer_Segment</th>\n",
       "      <th>Discounted_Revenue</th>\n",
       "    </tr>\n",
       "  </thead>\n",
       "  <tbody>\n",
       "    <tr>\n",
       "      <th>12</th>\n",
       "      <td>Toys</td>\n",
       "      <td>Occasional</td>\n",
       "      <td>775960.0</td>\n",
       "    </tr>\n",
       "    <tr>\n",
       "      <th>13</th>\n",
       "      <td>Toys</td>\n",
       "      <td>Premium</td>\n",
       "      <td>732562.6</td>\n",
       "    </tr>\n",
       "    <tr>\n",
       "      <th>14</th>\n",
       "      <td>Toys</td>\n",
       "      <td>Regular</td>\n",
       "      <td>679250.0</td>\n",
       "    </tr>\n",
       "    <tr>\n",
       "      <th>11</th>\n",
       "      <td>Sports</td>\n",
       "      <td>Regular</td>\n",
       "      <td>841826.9</td>\n",
       "    </tr>\n",
       "    <tr>\n",
       "      <th>10</th>\n",
       "      <td>Sports</td>\n",
       "      <td>Premium</td>\n",
       "      <td>829645.4</td>\n",
       "    </tr>\n",
       "    <tr>\n",
       "      <th>9</th>\n",
       "      <td>Sports</td>\n",
       "      <td>Occasional</td>\n",
       "      <td>732082.7</td>\n",
       "    </tr>\n",
       "    <tr>\n",
       "      <th>6</th>\n",
       "      <td>Home Decor</td>\n",
       "      <td>Occasional</td>\n",
       "      <td>867778.6</td>\n",
       "    </tr>\n",
       "    <tr>\n",
       "      <th>8</th>\n",
       "      <td>Home Decor</td>\n",
       "      <td>Regular</td>\n",
       "      <td>716574.5</td>\n",
       "    </tr>\n",
       "    <tr>\n",
       "      <th>7</th>\n",
       "      <td>Home Decor</td>\n",
       "      <td>Premium</td>\n",
       "      <td>608148.1</td>\n",
       "    </tr>\n",
       "    <tr>\n",
       "      <th>3</th>\n",
       "      <td>Fashion</td>\n",
       "      <td>Occasional</td>\n",
       "      <td>847477.4</td>\n",
       "    </tr>\n",
       "    <tr>\n",
       "      <th>4</th>\n",
       "      <td>Fashion</td>\n",
       "      <td>Premium</td>\n",
       "      <td>672897.0</td>\n",
       "    </tr>\n",
       "    <tr>\n",
       "      <th>5</th>\n",
       "      <td>Fashion</td>\n",
       "      <td>Regular</td>\n",
       "      <td>668304.7</td>\n",
       "    </tr>\n",
       "    <tr>\n",
       "      <th>2</th>\n",
       "      <td>Electronics</td>\n",
       "      <td>Regular</td>\n",
       "      <td>899993.3</td>\n",
       "    </tr>\n",
       "    <tr>\n",
       "      <th>0</th>\n",
       "      <td>Electronics</td>\n",
       "      <td>Occasional</td>\n",
       "      <td>691492.5</td>\n",
       "    </tr>\n",
       "    <tr>\n",
       "      <th>1</th>\n",
       "      <td>Electronics</td>\n",
       "      <td>Premium</td>\n",
       "      <td>674298.9</td>\n",
       "    </tr>\n",
       "  </tbody>\n",
       "</table>\n",
       "</div>"
      ],
      "text/plain": [
       "   Product_Category Customer_Segment  Discounted_Revenue\n",
       "12             Toys       Occasional            775960.0\n",
       "13             Toys          Premium            732562.6\n",
       "14             Toys          Regular            679250.0\n",
       "11           Sports          Regular            841826.9\n",
       "10           Sports          Premium            829645.4\n",
       "9            Sports       Occasional            732082.7\n",
       "6        Home Decor       Occasional            867778.6\n",
       "8        Home Decor          Regular            716574.5\n",
       "7        Home Decor          Premium            608148.1\n",
       "3           Fashion       Occasional            847477.4\n",
       "4           Fashion          Premium            672897.0\n",
       "5           Fashion          Regular            668304.7\n",
       "2       Electronics          Regular            899993.3\n",
       "0       Electronics       Occasional            691492.5\n",
       "1       Electronics          Premium            674298.9"
      ]
     },
     "execution_count": 130,
     "metadata": {},
     "output_type": "execute_result"
    }
   ],
   "source": [
    "Dis_Rev_per_Product_Category_per_Customer_Segment = Data.groupby(['Product_Category','Customer_Segment'])['Discounted_Revenue'].sum().reset_index()\n",
    "Dis_Rev_per_Product_Category_per_Customer_Segment.sort_values(by=['Product_Category','Discounted_Revenue'], ascending=False)"
   ]
  },
  {
   "cell_type": "markdown",
   "id": "7a7a65dc-e048-419f-bd81-3f408f4cfbec",
   "metadata": {},
   "source": [
    "### 6) KPIs :"
   ]
  },
  {
   "cell_type": "markdown",
   "id": "7802fab6-0693-4b81-a953-9b9cc69601a6",
   "metadata": {},
   "source": [
    "#### Average Order Value (AOV)"
   ]
  },
  {
   "cell_type": "code",
   "execution_count": 131,
   "id": "3d1647c0-9e67-41da-aa45-957cb7bd71fe",
   "metadata": {},
   "outputs": [
    {
     "data": {
      "text/plain": [
       "379.3"
      ]
     },
     "execution_count": 131,
     "metadata": {},
     "output_type": "execute_result"
    }
   ],
   "source": [
    "AOV=(Discounted_Revenue/Data['Units_Sold'].sum()).round(1)\n",
    "AOV"
   ]
  },
  {
   "cell_type": "markdown",
   "id": "03983067-4e19-4eb0-b889-400eac2c8cf3",
   "metadata": {},
   "source": [
    "## ii) Marketing Performance Analysis"
   ]
  },
  {
   "cell_type": "markdown",
   "id": "2b38cfd3",
   "metadata": {},
   "source": [
    "### 1) Marketing Total Matketing Spend"
   ]
  },
  {
   "cell_type": "code",
   "execution_count": 132,
   "id": "fd018932",
   "metadata": {},
   "outputs": [
    {
     "data": {
      "text/plain": [
       "4912830.2"
      ]
     },
     "execution_count": 132,
     "metadata": {},
     "output_type": "execute_result"
    }
   ],
   "source": [
    "Total_Marketing_Spend = Data['Marketing_Spend'].sum().round(1)\n",
    "Total_Marketing_Spend"
   ]
  },
  {
   "cell_type": "markdown",
   "id": "7291a7f4-8560-4087-8ac2-23b175d40afe",
   "metadata": {},
   "source": [
    "### 2) Sales per Marketing Dirham"
   ]
  },
  {
   "cell_type": "code",
   "execution_count": 133,
   "id": "7f524ff9-21db-402f-8ed2-cbe5d54331c6",
   "metadata": {},
   "outputs": [
    {
     "data": {
      "text/plain": [
       "2.29"
      ]
     },
     "execution_count": 133,
     "metadata": {},
     "output_type": "execute_result"
    }
   ],
   "source": [
    "SMD= ( Discounted_Revenue/Data.Marketing_Spend.sum()).round(2)\n",
    "SMD"
   ]
  },
  {
   "cell_type": "markdown",
   "id": "958bbb49",
   "metadata": {},
   "source": [
    "### 3) Avg Marketing Spend Per Unit Per Product "
   ]
  },
  {
   "cell_type": "code",
   "execution_count": 134,
   "id": "8e33b478",
   "metadata": {},
   "outputs": [
    {
     "data": {
      "text/html": [
       "<div>\n",
       "<style scoped>\n",
       "    .dataframe tbody tr th:only-of-type {\n",
       "        vertical-align: middle;\n",
       "    }\n",
       "\n",
       "    .dataframe tbody tr th {\n",
       "        vertical-align: top;\n",
       "    }\n",
       "\n",
       "    .dataframe thead th {\n",
       "        text-align: right;\n",
       "    }\n",
       "</style>\n",
       "<table border=\"1\" class=\"dataframe\">\n",
       "  <thead>\n",
       "    <tr style=\"text-align: right;\">\n",
       "      <th></th>\n",
       "      <th>Product_Category</th>\n",
       "      <th>Marketing_Spend_per_Unit</th>\n",
       "    </tr>\n",
       "  </thead>\n",
       "  <tbody>\n",
       "    <tr>\n",
       "      <th>0</th>\n",
       "      <td>Electronics</td>\n",
       "      <td>181.036316</td>\n",
       "    </tr>\n",
       "    <tr>\n",
       "      <th>1</th>\n",
       "      <td>Fashion</td>\n",
       "      <td>176.067336</td>\n",
       "    </tr>\n",
       "    <tr>\n",
       "      <th>2</th>\n",
       "      <td>Home Decor</td>\n",
       "      <td>179.104795</td>\n",
       "    </tr>\n",
       "    <tr>\n",
       "      <th>3</th>\n",
       "      <td>Sports</td>\n",
       "      <td>168.942017</td>\n",
       "    </tr>\n",
       "    <tr>\n",
       "      <th>4</th>\n",
       "      <td>Toys</td>\n",
       "      <td>183.202207</td>\n",
       "    </tr>\n",
       "  </tbody>\n",
       "</table>\n",
       "</div>"
      ],
      "text/plain": [
       "  Product_Category  Marketing_Spend_per_Unit\n",
       "0      Electronics                181.036316\n",
       "1          Fashion                176.067336\n",
       "2       Home Decor                179.104795\n",
       "3           Sports                168.942017\n",
       "4             Toys                183.202207"
      ]
     },
     "execution_count": 134,
     "metadata": {},
     "output_type": "execute_result"
    }
   ],
   "source": [
    "Data['Marketing_Spend_per_Unit'] = Data['Marketing_Spend'] / Data['Units_Sold']\n",
    "avg_marketing_spend_per_unit = Data.groupby('Product_Category')['Marketing_Spend_per_Unit'].mean().reset_index()\n",
    "avg_marketing_spend_per_unit"
   ]
  },
  {
   "cell_type": "markdown",
   "id": "742a7c3e-0764-4461-a3cf-a6463d8676b8",
   "metadata": {},
   "source": [
    "## iv) Profitability Analysis"
   ]
  },
  {
   "cell_type": "markdown",
   "id": "6538efa7-9465-401b-a443-4a0545c65cb1",
   "metadata": {},
   "source": [
    "### 1) Gross Profit"
   ]
  },
  {
   "cell_type": "code",
   "execution_count": 135,
   "id": "bde7aa41-1de2-44d2-b8a1-e7647ac46796",
   "metadata": {},
   "outputs": [
    {
     "data": {
      "text/plain": [
       "6325461.4"
      ]
     },
     "execution_count": 135,
     "metadata": {},
     "output_type": "execute_result"
    }
   ],
   "source": [
    "Gross_Profit= Data['Profit'].sum().round(1)\n",
    "Gross_Profit"
   ]
  },
  {
   "cell_type": "markdown",
   "id": "6854f9ac-1fc7-4029-ad7e-aea98571a5df",
   "metadata": {},
   "source": [
    "### 2) Gross Margin"
   ]
  },
  {
   "cell_type": "code",
   "execution_count": 136,
   "id": "22f26dea-d31e-4151-927f-4035694aac93",
   "metadata": {},
   "outputs": [
    {
     "data": {
      "text/plain": [
       "0.56"
      ]
     },
     "execution_count": 136,
     "metadata": {},
     "output_type": "execute_result"
    }
   ],
   "source": [
    "Gross_margin=(Gross_Profit/Discounted_Revenue).round(2)\n",
    "Gross_margin"
   ]
  },
  {
   "cell_type": "markdown",
   "id": "18210a27-314b-4f3b-9f03-b38ffc155295",
   "metadata": {},
   "source": [
    "### 3)Profit per Customer Segment"
   ]
  },
  {
   "cell_type": "code",
   "execution_count": 137,
   "id": "da169ca3-e709-474e-b316-3fc3056afe7b",
   "metadata": {},
   "outputs": [
    {
     "data": {
      "text/html": [
       "<div>\n",
       "<style scoped>\n",
       "    .dataframe tbody tr th:only-of-type {\n",
       "        vertical-align: middle;\n",
       "    }\n",
       "\n",
       "    .dataframe tbody tr th {\n",
       "        vertical-align: top;\n",
       "    }\n",
       "\n",
       "    .dataframe thead th {\n",
       "        text-align: right;\n",
       "    }\n",
       "</style>\n",
       "<table border=\"1\" class=\"dataframe\">\n",
       "  <thead>\n",
       "    <tr style=\"text-align: right;\">\n",
       "      <th></th>\n",
       "      <th>Customer_Segment</th>\n",
       "      <th>Profit</th>\n",
       "    </tr>\n",
       "  </thead>\n",
       "  <tbody>\n",
       "    <tr>\n",
       "      <th>0</th>\n",
       "      <td>Occasional</td>\n",
       "      <td>2259686.3</td>\n",
       "    </tr>\n",
       "    <tr>\n",
       "      <th>2</th>\n",
       "      <td>Regular</td>\n",
       "      <td>2085222.9</td>\n",
       "    </tr>\n",
       "    <tr>\n",
       "      <th>1</th>\n",
       "      <td>Premium</td>\n",
       "      <td>1980552.2</td>\n",
       "    </tr>\n",
       "  </tbody>\n",
       "</table>\n",
       "</div>"
      ],
      "text/plain": [
       "  Customer_Segment     Profit\n",
       "0       Occasional  2259686.3\n",
       "2          Regular  2085222.9\n",
       "1          Premium  1980552.2"
      ]
     },
     "execution_count": 137,
     "metadata": {},
     "output_type": "execute_result"
    }
   ],
   "source": [
    "Profit_per_Customer_Segment = Data.groupby('Customer_Segment')['Profit'].sum().reset_index()\n",
    "Profit_per_Customer_Segment.sort_values(by=['Profit'], ascending=False)"
   ]
  },
  {
   "cell_type": "markdown",
   "id": "21dfc757-bd0f-45a0-91e0-1597c4b661e6",
   "metadata": {},
   "source": [
    "### 4)Profit per Product Category per Customer Segment "
   ]
  },
  {
   "cell_type": "code",
   "execution_count": 138,
   "id": "4144f833-4c78-4720-9ddf-ed9f54760fb4",
   "metadata": {},
   "outputs": [
    {
     "data": {
      "text/html": [
       "<div>\n",
       "<style scoped>\n",
       "    .dataframe tbody tr th:only-of-type {\n",
       "        vertical-align: middle;\n",
       "    }\n",
       "\n",
       "    .dataframe tbody tr th {\n",
       "        vertical-align: top;\n",
       "    }\n",
       "\n",
       "    .dataframe thead th {\n",
       "        text-align: right;\n",
       "    }\n",
       "</style>\n",
       "<table border=\"1\" class=\"dataframe\">\n",
       "  <thead>\n",
       "    <tr style=\"text-align: right;\">\n",
       "      <th></th>\n",
       "      <th>Product_Category</th>\n",
       "      <th>Customer_Segment</th>\n",
       "      <th>Profit</th>\n",
       "    </tr>\n",
       "  </thead>\n",
       "  <tbody>\n",
       "    <tr>\n",
       "      <th>13</th>\n",
       "      <td>Toys</td>\n",
       "      <td>Premium</td>\n",
       "      <td>405274.9</td>\n",
       "    </tr>\n",
       "    <tr>\n",
       "      <th>14</th>\n",
       "      <td>Toys</td>\n",
       "      <td>Regular</td>\n",
       "      <td>389421.0</td>\n",
       "    </tr>\n",
       "    <tr>\n",
       "      <th>12</th>\n",
       "      <td>Toys</td>\n",
       "      <td>Occasional</td>\n",
       "      <td>382528.5</td>\n",
       "    </tr>\n",
       "    <tr>\n",
       "      <th>10</th>\n",
       "      <td>Sports</td>\n",
       "      <td>Premium</td>\n",
       "      <td>510359.7</td>\n",
       "    </tr>\n",
       "    <tr>\n",
       "      <th>9</th>\n",
       "      <td>Sports</td>\n",
       "      <td>Occasional</td>\n",
       "      <td>466621.5</td>\n",
       "    </tr>\n",
       "    <tr>\n",
       "      <th>11</th>\n",
       "      <td>Sports</td>\n",
       "      <td>Regular</td>\n",
       "      <td>448325.3</td>\n",
       "    </tr>\n",
       "    <tr>\n",
       "      <th>6</th>\n",
       "      <td>Home Decor</td>\n",
       "      <td>Occasional</td>\n",
       "      <td>520599.7</td>\n",
       "    </tr>\n",
       "    <tr>\n",
       "      <th>8</th>\n",
       "      <td>Home Decor</td>\n",
       "      <td>Regular</td>\n",
       "      <td>410555.1</td>\n",
       "    </tr>\n",
       "    <tr>\n",
       "      <th>7</th>\n",
       "      <td>Home Decor</td>\n",
       "      <td>Premium</td>\n",
       "      <td>322620.3</td>\n",
       "    </tr>\n",
       "    <tr>\n",
       "      <th>3</th>\n",
       "      <td>Fashion</td>\n",
       "      <td>Occasional</td>\n",
       "      <td>533461.7</td>\n",
       "    </tr>\n",
       "    <tr>\n",
       "      <th>4</th>\n",
       "      <td>Fashion</td>\n",
       "      <td>Premium</td>\n",
       "      <td>380711.4</td>\n",
       "    </tr>\n",
       "    <tr>\n",
       "      <th>5</th>\n",
       "      <td>Fashion</td>\n",
       "      <td>Regular</td>\n",
       "      <td>353551.1</td>\n",
       "    </tr>\n",
       "    <tr>\n",
       "      <th>2</th>\n",
       "      <td>Electronics</td>\n",
       "      <td>Regular</td>\n",
       "      <td>483370.4</td>\n",
       "    </tr>\n",
       "    <tr>\n",
       "      <th>1</th>\n",
       "      <td>Electronics</td>\n",
       "      <td>Premium</td>\n",
       "      <td>361585.9</td>\n",
       "    </tr>\n",
       "    <tr>\n",
       "      <th>0</th>\n",
       "      <td>Electronics</td>\n",
       "      <td>Occasional</td>\n",
       "      <td>356474.9</td>\n",
       "    </tr>\n",
       "  </tbody>\n",
       "</table>\n",
       "</div>"
      ],
      "text/plain": [
       "   Product_Category Customer_Segment    Profit\n",
       "13             Toys          Premium  405274.9\n",
       "14             Toys          Regular  389421.0\n",
       "12             Toys       Occasional  382528.5\n",
       "10           Sports          Premium  510359.7\n",
       "9            Sports       Occasional  466621.5\n",
       "11           Sports          Regular  448325.3\n",
       "6        Home Decor       Occasional  520599.7\n",
       "8        Home Decor          Regular  410555.1\n",
       "7        Home Decor          Premium  322620.3\n",
       "3           Fashion       Occasional  533461.7\n",
       "4           Fashion          Premium  380711.4\n",
       "5           Fashion          Regular  353551.1\n",
       "2       Electronics          Regular  483370.4\n",
       "1       Electronics          Premium  361585.9\n",
       "0       Electronics       Occasional  356474.9"
      ]
     },
     "execution_count": 138,
     "metadata": {},
     "output_type": "execute_result"
    }
   ],
   "source": [
    "Profit_per_Product_Category_per_Customer_Segment = Data.groupby(['Product_Category','Customer_Segment'])['Profit'].sum().reset_index()\n",
    "Profit_per_Product_Category_per_Customer_Segment.sort_values(by=['Product_Category','Profit'], ascending=False)"
   ]
  },
  {
   "cell_type": "markdown",
   "id": "595ea376-d920-4b5b-8a2c-9a7b7dbc169a",
   "metadata": {},
   "source": [
    "### 5)Profit per Customer Segment per Product Category"
   ]
  },
  {
   "cell_type": "code",
   "execution_count": 139,
   "id": "d91406b0-01a1-42d3-bacf-230f4d77963f",
   "metadata": {},
   "outputs": [
    {
     "data": {
      "text/html": [
       "<div>\n",
       "<style scoped>\n",
       "    .dataframe tbody tr th:only-of-type {\n",
       "        vertical-align: middle;\n",
       "    }\n",
       "\n",
       "    .dataframe tbody tr th {\n",
       "        vertical-align: top;\n",
       "    }\n",
       "\n",
       "    .dataframe thead th {\n",
       "        text-align: right;\n",
       "    }\n",
       "</style>\n",
       "<table border=\"1\" class=\"dataframe\">\n",
       "  <thead>\n",
       "    <tr style=\"text-align: right;\">\n",
       "      <th></th>\n",
       "      <th>Customer_Segment</th>\n",
       "      <th>Product_Category</th>\n",
       "      <th>Profit</th>\n",
       "    </tr>\n",
       "  </thead>\n",
       "  <tbody>\n",
       "    <tr>\n",
       "      <th>10</th>\n",
       "      <td>Regular</td>\n",
       "      <td>Electronics</td>\n",
       "      <td>483370.4</td>\n",
       "    </tr>\n",
       "    <tr>\n",
       "      <th>13</th>\n",
       "      <td>Regular</td>\n",
       "      <td>Sports</td>\n",
       "      <td>448325.3</td>\n",
       "    </tr>\n",
       "    <tr>\n",
       "      <th>12</th>\n",
       "      <td>Regular</td>\n",
       "      <td>Home Decor</td>\n",
       "      <td>410555.1</td>\n",
       "    </tr>\n",
       "    <tr>\n",
       "      <th>14</th>\n",
       "      <td>Regular</td>\n",
       "      <td>Toys</td>\n",
       "      <td>389421.0</td>\n",
       "    </tr>\n",
       "    <tr>\n",
       "      <th>11</th>\n",
       "      <td>Regular</td>\n",
       "      <td>Fashion</td>\n",
       "      <td>353551.1</td>\n",
       "    </tr>\n",
       "    <tr>\n",
       "      <th>8</th>\n",
       "      <td>Premium</td>\n",
       "      <td>Sports</td>\n",
       "      <td>510359.7</td>\n",
       "    </tr>\n",
       "    <tr>\n",
       "      <th>9</th>\n",
       "      <td>Premium</td>\n",
       "      <td>Toys</td>\n",
       "      <td>405274.9</td>\n",
       "    </tr>\n",
       "    <tr>\n",
       "      <th>6</th>\n",
       "      <td>Premium</td>\n",
       "      <td>Fashion</td>\n",
       "      <td>380711.4</td>\n",
       "    </tr>\n",
       "    <tr>\n",
       "      <th>5</th>\n",
       "      <td>Premium</td>\n",
       "      <td>Electronics</td>\n",
       "      <td>361585.9</td>\n",
       "    </tr>\n",
       "    <tr>\n",
       "      <th>7</th>\n",
       "      <td>Premium</td>\n",
       "      <td>Home Decor</td>\n",
       "      <td>322620.3</td>\n",
       "    </tr>\n",
       "    <tr>\n",
       "      <th>1</th>\n",
       "      <td>Occasional</td>\n",
       "      <td>Fashion</td>\n",
       "      <td>533461.7</td>\n",
       "    </tr>\n",
       "    <tr>\n",
       "      <th>2</th>\n",
       "      <td>Occasional</td>\n",
       "      <td>Home Decor</td>\n",
       "      <td>520599.7</td>\n",
       "    </tr>\n",
       "    <tr>\n",
       "      <th>3</th>\n",
       "      <td>Occasional</td>\n",
       "      <td>Sports</td>\n",
       "      <td>466621.5</td>\n",
       "    </tr>\n",
       "    <tr>\n",
       "      <th>4</th>\n",
       "      <td>Occasional</td>\n",
       "      <td>Toys</td>\n",
       "      <td>382528.5</td>\n",
       "    </tr>\n",
       "    <tr>\n",
       "      <th>0</th>\n",
       "      <td>Occasional</td>\n",
       "      <td>Electronics</td>\n",
       "      <td>356474.9</td>\n",
       "    </tr>\n",
       "  </tbody>\n",
       "</table>\n",
       "</div>"
      ],
      "text/plain": [
       "   Customer_Segment Product_Category    Profit\n",
       "10          Regular      Electronics  483370.4\n",
       "13          Regular           Sports  448325.3\n",
       "12          Regular       Home Decor  410555.1\n",
       "14          Regular             Toys  389421.0\n",
       "11          Regular          Fashion  353551.1\n",
       "8           Premium           Sports  510359.7\n",
       "9           Premium             Toys  405274.9\n",
       "6           Premium          Fashion  380711.4\n",
       "5           Premium      Electronics  361585.9\n",
       "7           Premium       Home Decor  322620.3\n",
       "1        Occasional          Fashion  533461.7\n",
       "2        Occasional       Home Decor  520599.7\n",
       "3        Occasional           Sports  466621.5\n",
       "4        Occasional             Toys  382528.5\n",
       "0        Occasional      Electronics  356474.9"
      ]
     },
     "execution_count": 139,
     "metadata": {},
     "output_type": "execute_result"
    }
   ],
   "source": [
    "Profit_per_Customer_Segment_Product_Category = Data.groupby(['Customer_Segment','Product_Category'])['Profit'].sum().reset_index()\n",
    "Profit_per_Customer_Segment_Product_Category.sort_values(by=['Customer_Segment', 'Profit'], ascending=False)"
   ]
  },
  {
   "cell_type": "markdown",
   "id": "dca55172",
   "metadata": {},
   "source": [
    "## v) Data Correlation"
   ]
  },
  {
   "cell_type": "code",
   "execution_count": 141,
   "id": "454ad587",
   "metadata": {},
   "outputs": [
    {
     "data": {
      "image/png": "[encoded data removed]",
      "text/plain": [
       "<Figure size 1000x800 with 2 Axes>"
      ]
     },
     "metadata": {},
     "output_type": "display_data"
    }
   ],
   "source": [
    "correlation_data = Data[['Price', 'Discount', 'Discounted_Revenue', 'Revenue', 'Units_Sold', 'Marketing_Spend']]\n",
    "correlation_matrix = correlation_data.corr()\n",
    "\n",
    "plt.figure(figsize=(10, 8),edgecolor='Black')\n",
    "plt.imshow(correlation_matrix, cmap='RdBu', interpolation= 'none', aspect='auto', alpha=1)\n",
    "plt.colorbar()\n",
    "plt.xticks(range(len(correlation_matrix.columns)), correlation_matrix.columns, rotation=45)\n",
    "plt.yticks(range(len(correlation_matrix.columns)), correlation_matrix.columns)\n",
    "plt.title('Correlation Matrix')\n",
    "\n",
    "for i in range(len(correlation_matrix.columns)):\n",
    "    for j in range(len(correlation_matrix.columns)):\n",
    "        plt.text(j, i, f'{correlation_matrix.iloc[i, j]:.2f}', ha='center', va='center', color='black')\n",
    "\n",
    "plt.show()"
   ]
  },
  {
   "cell_type": "markdown",
   "id": "4d3790c4-ad71-47ec-aae5-89bbd600ea7d",
   "metadata": {},
   "source": [
    "# IV) Revenue and marketing spend Forecast"
   ]
  },
  {
   "cell_type": "code",
   "execution_count": 140,
   "id": "98365079",
   "metadata": {},
   "outputs": [
    {
     "name": "stderr",
     "output_type": "stream",
     "text": [
      "C:\\Users\\Moad Workstation\\AppData\\Local\\Temp\\ipykernel_17708\\3755919274.py:1: FutureWarning: 'M' is deprecated and will be removed in a future version, please use 'ME' instead.\n",
      "  future_dates = pd.date_range(start='2026-01-31', periods=6, freq='M')\n"
     ]
    },
    {
     "name": "stdout",
     "output_type": "stream",
     "text": [
      "Revenue Forecast for the Next 6 Months:\n",
      "            Electronics     Fashion  Home Decor      Sports        Toys\n",
      "2026-01-31    12.687815  123.224289  233.307431   59.590514  153.048389\n",
      "2026-02-28    66.301981  133.060979   87.145941  130.254923   68.546016\n",
      "2026-03-31   117.134968  108.721116  163.574932   99.571322  134.111001\n",
      "2026-04-30    38.099158  104.800766  215.291364  106.460667  159.370064\n",
      "2026-05-31   120.453390   81.248846  149.159733  213.381092   94.172412\n",
      "2026-06-30   107.171490  141.107201  166.660631  102.694933  127.366497\n",
      "\n",
      "Marketing Spend Forecast for the Next 6 Months:\n",
      "            Electronics      Fashion   Home Decor       Sports         Toys\n",
      "2026-01-31  5068.350238  4847.130474  4940.663789  4748.776748  4953.665539\n",
      "2026-02-28  5169.717243  4944.073083  5039.477065  4843.752283  5052.738850\n",
      "2026-03-31  5271.084248  5041.015693  5138.290341  4938.727817  5151.812161\n",
      "2026-04-30  5372.451252  5137.958302  5237.103617  5033.703352  5250.885472\n",
      "2026-05-31  5473.818257  5234.900912  5335.916893  5128.678887  5349.958782\n",
      "2026-06-30  5575.185262  5331.843521  5434.730168  5223.654422  5449.032093\n"
     ]
    },
    {
     "data": {
      "image/png": "[encoded data removed]",
      "text/plain": [
       "<Figure size 1400x1000 with 2 Axes>"
      ]
     },
     "metadata": {},
     "output_type": "display_data"
    }
   ],
   "source": [
    "future_dates = pd.date_range(start='2026-01-31', periods=6, freq='M')\n",
    "\n",
    "#Dictionaries to store the forecasts\n",
    "revenue_forecast = {}\n",
    "marketing_spend_forecast = {}\n",
    "\n",
    "# Loop through each product category and generate the forecasts\n",
    "for category in models.keys():\n",
    "    model = models[category]\n",
    "\n",
    "    revenue_forecast[category] = model.forecast(steps=6)\n",
    "    \n",
    "    marketing_spend_forecast[category] = np.linspace(Data[Data['Product_Category'] == category]['Marketing_Spend'].mean(), \n",
    "                                                     Data[Data['Product_Category'] == category]['Marketing_Spend'].mean() * 1.1, num=6)\n",
    "\n",
    "\n",
    "revenue_forecast_df = pd.DataFrame(revenue_forecast, index=future_dates)\n",
    "marketing_spend_forecast_df = pd.DataFrame(marketing_spend_forecast, index=future_dates)\n",
    "\n",
    "# Display the forecasts\n",
    "print(\"Revenue Forecast for the Next 6 Months:\")\n",
    "print(revenue_forecast_df)\n",
    "\n",
    "print(\"\\nMarketing Spend Forecast for the Next 6 Months:\")\n",
    "print(marketing_spend_forecast_df)\n",
    "# Plot the forecasts\n",
    "fig, ax = plt.subplots(2, 1, figsize=(14, 10))\n",
    "\n",
    "#Revenue forecast\n",
    "revenue_forecast_df.plot(ax=ax[0])\n",
    "ax[0].set_title('Revenue Forecast for the Next 6 Months')\n",
    "ax[0].set_xlabel('Date')\n",
    "ax[0].set_ylabel('Revenue')\n",
    "\n",
    "#Marketing spend forecast\n",
    "marketing_spend_forecast_df.plot(ax=ax[1])\n",
    "ax[1].set_title('Marketing Spend Forecast for the Next 6 Months')\n",
    "ax[1].set_xlabel('Date')\n",
    "ax[1].set_ylabel('Marketing Spend')\n",
    "\n",
    "plt.tight_layout()\n",
    "plt.show()"
   ]
  }
 ],
 "metadata": {
  "kernelspec": {
   "display_name": "base",
   "language": "python",
   "name": "python3"
  },
  "language_info": {
   "codemirror_mode": {
    "name": "ipython",
    "version": 3
   },
   "file_extension": ".py",
   "mimetype": "text/x-python",
   "name": "python",
   "nbconvert_exporter": "python",
   "pygments_lexer": "ipython3",
   "version": "3.12.7"
  }
 },
 "nbformat": 4,
 "nbformat_minor": 5
}
